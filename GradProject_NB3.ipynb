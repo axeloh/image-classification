{
 "cells": [
  {
   "cell_type": "markdown",
   "metadata": {
    "colab_type": "text",
    "id": "FRn67sI_bzrm"
   },
   "source": [
    "\n",
    "<h1> DS200A Computer Vision Assignment</h1>"
   ]
  },
  {
   "cell_type": "markdown",
   "metadata": {
    "colab_type": "text",
    "id": "PsKiQRYtbzro"
   },
   "source": [
    "<h2>  Part Three: Classifier training and performance assessment. </h2>\t"
   ]
  },
  {
   "cell_type": "code",
   "execution_count": 10,
   "metadata": {
    "colab": {},
    "colab_type": "code",
    "id": "gc2wn_6IBun6"
   },
   "outputs": [],
   "source": [
    "import warnings\n",
    "warnings.simplefilter(action='ignore', category=FutureWarning)\n",
    "warnings.simplefilter(action='ignore', category=DeprecationWarning)\n",
    "\n",
    "from sklearn.linear_model import LogisticRegression\n",
    "from sklearn.metrics import accuracy_score\n",
    "from sklearn.model_selection import train_test_split\n",
    "from sklearn.preprocessing import MinMaxScaler, RobustScaler, StandardScaler\n",
    "from sklearn.ensemble import RandomForestClassifier\n",
    "from sklearn.neighbors import KNeighborsClassifier\n",
    "from sklearn.svm import SVC\n",
    "from sklearn.tree import DecisionTreeClassifier"
   ]
  },
  {
   "cell_type": "code",
   "execution_count": 11,
   "metadata": {
    "colab": {
     "base_uri": "https://localhost:8080/",
     "height": 122
    },
    "colab_type": "code",
    "executionInfo": {
     "elapsed": 46179,
     "status": "ok",
     "timestamp": 1574673545548,
     "user": {
      "displayName": "Henrik Høiness",
      "photoUrl": "https://lh3.googleusercontent.com/a-/AAuE7mAU_UzKC8CKFaMzdXHG3v2miAUiqbdhU_utY4l9=s64",
      "userId": "05134007726078583058"
     },
     "user_tz": 480
    },
    "id": "OPpevWkU2raj",
    "outputId": "df9ccfce-d6dc-409c-c20e-eea39c7c8305"
   },
   "outputs": [],
   "source": [
    "#from google.colab import drive\n",
    "#drive.mount('/content/drive', force_remount=True)"
   ]
  },
  {
   "cell_type": "markdown",
   "metadata": {
    "colab_type": "text",
    "id": "F2HbJKLRbzrr"
   },
   "source": [
    "<h3>  Train models using all of the following methods below. Be sure to drop the actual image column, and the encoding</h3>\tTake note of the differences in accuracy, and methods.\n"
   ]
  },
  {
   "cell_type": "code",
   "execution_count": 12,
   "metadata": {
    "colab": {
     "base_uri": "https://localhost:8080/",
     "height": 164
    },
    "colab_type": "code",
    "executionInfo": {
     "elapsed": 424,
     "status": "error",
     "timestamp": 1574678666514,
     "user": {
      "displayName": "Henrik Høiness",
      "photoUrl": "https://lh3.googleusercontent.com/a-/AAuE7mAU_UzKC8CKFaMzdXHG3v2miAUiqbdhU_utY4l9=s64",
      "userId": "05134007726078583058"
     },
     "user_tz": 480
    },
    "id": "4fkkK5APDZRb",
    "outputId": "87d21858-b8c7-461c-8982-b0b2564fb7a5"
   },
   "outputs": [],
   "source": [
    "from ipynb.fs.defs.GradProject_NB2 import feature_frame"
   ]
  },
  {
   "cell_type": "code",
   "execution_count": 18,
   "metadata": {
    "colab": {
     "base_uri": "https://localhost:8080/",
     "height": 351
    },
    "colab_type": "code",
    "executionInfo": {
     "elapsed": 421,
     "status": "error",
     "timestamp": 1574675788370,
     "user": {
      "displayName": "Henrik Høiness",
      "photoUrl": "https://lh3.googleusercontent.com/a-/AAuE7mAU_UzKC8CKFaMzdXHG3v2miAUiqbdhU_utY4l9=s64",
      "userId": "05134007726078583058"
     },
     "user_tz": 480
    },
    "id": "B7Qeocn8Beni",
    "outputId": "c1019e4b-4e96-4ee7-e30b-18bb86dd68a5"
   },
   "outputs": [
    {
     "name": "stdout",
     "output_type": "stream",
     "text": [
      "Fetching label '.DS_Store'\n",
      "Fetching label 'airplanes'\n",
      "Fetching label 'bear'\n",
      "Fetching label 'blimp'\n",
      "\tGray image ('blimp_0022.jpg') was loaded, converting to RGB\n",
      "Fetching label 'comet'\n",
      "\tGray image ('comet_0006.jpg') was loaded, converting to RGB\n",
      "\tGray image ('comet_0011.jpg') was loaded, converting to RGB\n",
      "\tGray image ('comet_0013.jpg') was loaded, converting to RGB\n",
      "\tGray image ('comet_0021.jpg') was loaded, converting to RGB\n",
      "\tGray image ('comet_0036.jpg') was loaded, converting to RGB\n",
      "\tGray image ('comet_0038.jpg') was loaded, converting to RGB\n",
      "\tGray image ('comet_0041.jpg') was loaded, converting to RGB\n",
      "\tGray image ('comet_0049.jpg') was loaded, converting to RGB\n",
      "\tGray image ('comet_0052.jpg') was loaded, converting to RGB\n",
      "\tGray image ('comet_0053.jpg') was loaded, converting to RGB\n",
      "\tGray image ('comet_0057.jpg') was loaded, converting to RGB\n",
      "\tGray image ('comet_0058.jpg') was loaded, converting to RGB\n",
      "Fetching label 'crab'\n",
      "\tGray image ('crab_0045.jpg') was loaded, converting to RGB\n",
      "Fetching label 'dog'\n",
      "Fetching label 'dolphin'\n",
      "\tGray image ('dolphin_0025.jpg') was loaded, converting to RGB\n",
      "Fetching label 'giraffe'\n",
      "Fetching label 'goat'\n",
      "Fetching label 'gorilla'\n",
      "\tGray image ('gorilla_0128.jpg') was loaded, converting to RGB\n",
      "Fetching label 'kangaroo'\n",
      "Fetching label 'killer-whale'\n",
      "Fetching label 'leopards'\n",
      "Fetching label 'llama'\n",
      "Fetching label 'penguin'\n",
      "Fetching label 'porcupine'\n",
      "Fetching label 'teddy-bear'\n",
      "Fetching label 'triceratops'\n",
      "Fetching label 'unicorn'\n",
      "Fetching label 'zebra'\n",
      "[INFO] Trimming images\n",
      "[INFO] Scaling images\n",
      "[INFO] Adding features: size, aspect_ratio, red-, green-, blue- and gray-intensity\n",
      "[INFO] Adding histogram features\n",
      "[INFO] Adding stride features\n",
      "Done preprocessing\n"
     ]
    }
   ],
   "source": [
    "data = feature_frame()\n",
    "y = data['Label']\n",
    "x = data.drop(columns=['Label', 'Image_Id'])\n",
    "print(\"Done preprocessing\")\n",
    "\n",
    "x_train, x_test, y_train, y_test = train_test_split(x, y, test_size=0.2)"
   ]
  },
  {
   "cell_type": "code",
   "execution_count": 19,
   "metadata": {},
   "outputs": [],
   "source": [
    "scaler = MinMaxScaler()\n",
    "x_train_scaled = scaler.fit_transform(x_train)\n",
    "x_test_scaled = scaler.transform(x_test)"
   ]
  },
  {
   "cell_type": "markdown",
   "metadata": {
    "colab_type": "text",
    "id": "JPgsvYbhbzrs"
   },
   "source": [
    "Logistic Regression"
   ]
  },
  {
   "cell_type": "code",
   "execution_count": 43,
   "metadata": {
    "colab": {
     "base_uri": "https://localhost:8080/",
     "height": 232
    },
    "colab_type": "code",
    "executionInfo": {
     "elapsed": 1074,
     "status": "error",
     "timestamp": 1574642755220,
     "user": {
      "displayName": "Axel Oevreboe Harstad",
      "photoUrl": "",
      "userId": "00313732855330319553"
     },
     "user_tz": 480
    },
    "id": "p_F4f5Slbzrt",
    "outputId": "4d14a70d-77fb-43e6-98f0-24c5cb84814c"
   },
   "outputs": [
    {
     "name": "stdout",
     "output_type": "stream",
     "text": [
      "0.3388704318936877\n"
     ]
    }
   ],
   "source": [
    "model = LogisticRegression()\n",
    "model.fit(x_train_scaled, y_train)\n",
    "preds = model.predict(x_test_scaled)\n",
    "acc = accuracy_score(preds, y_test)\n",
    "print(acc)"
   ]
  },
  {
   "cell_type": "markdown",
   "metadata": {
    "colab_type": "text",
    "id": "NcCxllL3bzrv"
   },
   "source": [
    "K-nearest Neighbors"
   ]
  },
  {
   "cell_type": "code",
   "execution_count": 55,
   "metadata": {
    "colab": {},
    "colab_type": "code",
    "id": "OLQdVbRAbzrw"
   },
   "outputs": [
    {
     "name": "stdout",
     "output_type": "stream",
     "text": [
      "0.2757475083056478\n"
     ]
    }
   ],
   "source": [
    "model = KNeighborsClassifier(10)\n",
    "model.fit(x_train, y_train)\n",
    "preds = model.predict(x_test)\n",
    "acc = accuracy_score(preds, y_test)\n",
    "print(acc)"
   ]
  },
  {
   "cell_type": "markdown",
   "metadata": {
    "colab_type": "text",
    "id": "eyf9J_TLbzry"
   },
   "source": [
    "Classification Tree"
   ]
  },
  {
   "cell_type": "code",
   "execution_count": 42,
   "metadata": {
    "colab": {},
    "colab_type": "code",
    "id": "LPQlFzuebzry"
   },
   "outputs": [
    {
     "name": "stdout",
     "output_type": "stream",
     "text": [
      "0.31893687707641194\n"
     ]
    }
   ],
   "source": [
    "model = DecisionTreeClassifier()\n",
    "model.fit(x_train, y_train)\n",
    "preds = model.predict(x_test)\n",
    "acc = accuracy_score(preds, y_test)\n",
    "print(acc)"
   ]
  },
  {
   "cell_type": "markdown",
   "metadata": {
    "colab_type": "text",
    "id": "c_T-JIq8bzr1"
   },
   "source": [
    "Random Forest"
   ]
  },
  {
   "cell_type": "code",
   "execution_count": 38,
   "metadata": {
    "colab": {},
    "colab_type": "code",
    "id": "dZ8TnM93bzr1"
   },
   "outputs": [
    {
     "name": "stdout",
     "output_type": "stream",
     "text": [
      "0.39867109634551495\n",
      "[0.01550203 0.01268453 0.00373825 0.00456659 0.00408338 0.00381922\n",
      " 0.0039683  0.00388937 0.00082096 0.00022223]\n",
      "[0, 1, 151, 288, 224, 223, 71, 150, 444, 215]\n",
      "Most importance features:\n",
      "Feature name: Size, Importance=0.015502033886434265\n",
      "Feature name: AspectRatio, Importance=0.012684531797931501\n",
      "Feature name: hist_feat_145, Importance=0.006982690563935953\n",
      "Feature name: hist_feat_282, Importance=0.006318578776059586\n",
      "Feature name: hist_feat_218, Importance=0.006314272346001445\n",
      "Feature name: hist_feat_217, Importance=0.005806074088000666\n",
      "Feature name: hist_feat_65, Importance=0.0056557492668981866\n",
      "Feature name: hist_feat_144, Importance=0.0055705248964820556\n",
      "Feature name: hist_feat_438, Importance=0.005563263258499672\n",
      "Feature name: hist_feat_209, Importance=0.005407967988465401\n",
      "Feature name: hist_feat_365, Importance=0.005281329589033475\n",
      "Feature name: hist_feat_355, Importance=0.005081727355642734\n",
      "Feature name: hist_feat_511, Importance=0.005044010950881174\n",
      "Feature name: hist_feat_73, Importance=0.005000492115701677\n",
      "Feature name: hist_feat_429, Importance=0.004970074257501923\n"
     ]
    }
   ],
   "source": [
    "model = RandomForestClassifier(n_estimators=500)\n",
    "model.fit(x_train, y_train)\n",
    "preds = model.predict(x_test)\n",
    "acc = accuracy_score(preds, y_test)\n",
    "print(acc)\n",
    "\n",
    "s = model.feature_importances_\n",
    "print(s[:10])\n",
    "index_importance_sorted = sorted(range(len(s)), key=lambda k: s[k], reverse=True)\n",
    "print(index_importance_sorted[:10])\n",
    "top_index = index_importance_sorted[:15]\n",
    "print(\"Most importance features:\")\n",
    "for index in top_index:\n",
    "    print(f\"Feature name: {x_train.columns[index]}, Importance={s[index]}\")"
   ]
  },
  {
   "cell_type": "markdown",
   "metadata": {
    "colab_type": "text",
    "id": "tLTUsV_Ibzr3"
   },
   "source": [
    "Support Vector Machine"
   ]
  },
  {
   "cell_type": "code",
   "execution_count": 26,
   "metadata": {
    "colab": {},
    "colab_type": "code",
    "id": "iTudbrXEbzr4"
   },
   "outputs": [
    {
     "name": "stdout",
     "output_type": "stream",
     "text": [
      "0.08970099667774087\n"
     ]
    }
   ],
   "source": [
    "model = SVC()\n",
    "model.fit(x_train_scaled, y_train)\n",
    "preds = model.predict(x_test_scaled)\n",
    "acc = accuracy_score(preds, y_test)\n",
    "print(acc)"
   ]
  },
  {
   "cell_type": "code",
   "execution_count": null,
   "metadata": {},
   "outputs": [],
   "source": []
  }
 ],
 "metadata": {
  "colab": {
   "collapsed_sections": [],
   "name": "GradProject_NB3.ipynb",
   "provenance": []
  },
  "kernelspec": {
   "display_name": "Python 3",
   "language": "python",
   "name": "python3"
  },
  "language_info": {
   "codemirror_mode": {
    "name": "ipython",
    "version": 3
   },
   "file_extension": ".py",
   "mimetype": "text/x-python",
   "name": "python",
   "nbconvert_exporter": "python",
   "pygments_lexer": "ipython3",
   "version": "3.7.2"
  }
 },
 "nbformat": 4,
 "nbformat_minor": 1
}
