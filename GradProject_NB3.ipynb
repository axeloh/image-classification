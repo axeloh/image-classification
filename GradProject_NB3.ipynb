{
 "cells": [
  {
   "cell_type": "markdown",
   "metadata": {
    "colab_type": "text",
    "id": "FRn67sI_bzrm"
   },
   "source": [
    "\n",
    "<h1> DS200A Computer Vision Assignment</h1>"
   ]
  },
  {
   "cell_type": "markdown",
   "metadata": {
    "colab_type": "text",
    "id": "PsKiQRYtbzro"
   },
   "source": [
    "<h2>  Part Three: Classifier training and performance assessment. </h2>\t"
   ]
  },
  {
   "cell_type": "code",
   "execution_count": null,
   "metadata": {
    "colab": {},
    "colab_type": "code",
    "id": "gc2wn_6IBun6"
   },
   "outputs": [],
   "source": [
    "import warnings\n",
    "warnings.simplefilter(action='ignore', category=FutureWarning)\n",
    "warnings.simplefilter(action='ignore', category=DeprecationWarning)\n",
    "\n",
    "from sklearn.linear_model import LogisticRegression\n",
    "from sklearn.metrics import accuracy_score\n",
    "from sklearn.model_selection import train_test_split\n",
    "from sklearn.preprocessing import MinMaxScaler, RobustScaler, StandardScaler\n",
    "from sklearn.ensemble import RandomForestClassifier\n",
    "from sklearn.neighbors import KNeighborsClassifier\n",
    "from sklearn.svm import SVC\n",
    "from sklearn.tree import DecisionTreeClassifier\n",
    "import numpy as np\n",
    "from sklearn.model_selection import KFold\n",
    "np.random.seed(42)"
   ]
  },
  {
   "cell_type": "markdown",
   "metadata": {
    "colab_type": "text",
    "id": "F2HbJKLRbzrr"
   },
   "source": [
    "#### Retrieving and preprocessing of the training data"
   ]
  },
  {
   "cell_type": "code",
   "execution_count": 3,
   "metadata": {
    "colab": {
     "base_uri": "https://localhost:8080/",
     "height": 164
    },
    "colab_type": "code",
    "executionInfo": {
     "elapsed": 424,
     "status": "error",
     "timestamp": 1574678666514,
     "user": {
      "displayName": "Henrik Høiness",
      "photoUrl": "https://lh3.googleusercontent.com/a-/AAuE7mAU_UzKC8CKFaMzdXHG3v2miAUiqbdhU_utY4l9=s64",
      "userId": "05134007726078583058"
     },
     "user_tz": 480
    },
    "id": "4fkkK5APDZRb",
    "outputId": "87d21858-b8c7-461c-8982-b0b2564fb7a5"
   },
   "outputs": [],
   "source": [
    "from ipynb.fs.defs.GradProject_NB2 import preprocess_part_one, preprocess_part_two"
   ]
  },
  {
   "cell_type": "code",
   "execution_count": null,
   "metadata": {
    "colab": {
     "base_uri": "https://localhost:8080/",
     "height": 351
    },
    "colab_type": "code",
    "executionInfo": {
     "elapsed": 421,
     "status": "error",
     "timestamp": 1574675788370,
     "user": {
      "displayName": "Henrik Høiness",
      "photoUrl": "https://lh3.googleusercontent.com/a-/AAuE7mAU_UzKC8CKFaMzdXHG3v2miAUiqbdhU_utY4l9=s64",
      "userId": "05134007726078583058"
     },
     "user_tz": 480
    },
    "id": "B7Qeocn8Beni",
    "outputId": "c1019e4b-4e96-4ee7-e30b-18bb86dd68a5"
   },
   "outputs": [],
   "source": [
    "training_data = preprocess_part_one(None, True, True)\n",
    "print('-'*50)\n",
    "train_part, val_part = train_test_split(training_data, test_size=0.1)\n",
    "k = 10\n",
    "train, val = preprocess_part_two(train_part, val_part, k)\n",
    "\n",
    "train_x, train_y = train.drop(columns=['Label']), train['Label']\n",
    "val_x, val_y = val.drop(columns=['Label']), val['Label']\n"
   ]
  },
  {
   "cell_type": "markdown",
   "metadata": {},
   "source": [
    "#### Scaling the data"
   ]
  },
  {
   "cell_type": "code",
   "execution_count": null,
   "metadata": {},
   "outputs": [],
   "source": [
    "scaler = MinMaxScaler()\n",
    "train_x_scaled = scaler.fit_transform(train_x)\n",
    "val_x_scaled = scaler.transform(val_x)"
   ]
  },
  {
   "cell_type": "code",
   "execution_count": null,
   "metadata": {},
   "outputs": [],
   "source": [
    "# Cross-validation\n",
    "def rmse(actual_y, predicted_y):\n",
    "    \"\"\"\n",
    "    The root mean square error between the prediction and the ground truth\n",
    "    \"\"\"\n",
    "    return np.sqrt(np.sum((actual_y - predicted_y)**2)/len(predicted_y))\n",
    "\n",
    "def compute_CV_rmse_and_acc(model, X_train, Y_train):\n",
    "    '''\n",
    "    Split the training data into 5 subsets.\n",
    "    For each subset, \n",
    "        fit a model holding out that subset\n",
    "        compute the MSE on that subset (the validation set)\n",
    "    You should be fitting 5 models total.\n",
    "    Return the average MSE of these 5 folds.\n",
    "\n",
    "    Args:\n",
    "        model: an sklearn model with fit and predict functions \n",
    "        X_train (data_frame): Training data\n",
    "        Y_train (data_frame): Label \n",
    "\n",
    "    Return:\n",
    "        the average validation error and accuracy for the 5 splits.\n",
    "    '''\n",
    "    kf = KFold(n_splits=5)\n",
    "    validation_errors = []\n",
    "    validation_accuracies = []\n",
    "    \n",
    "    for train_idx, valid_idx in kf.split(X_train):\n",
    "        \n",
    "        # Split the data\n",
    "        split_X_train, split_X_valid = np.take(X_train, train_idx, axis=0), np.take(X_train, valid_idx, axis=0)\n",
    "        split_Y_train, split_Y_valid = np.take(Y_train, train_idx, axis=0), np.take(Y_train, valid_idx, axis=0)\n",
    "        \n",
    "        # Fit the model on the training split\n",
    "        model.fit(split_X_train, split_Y_train)\n",
    "        \n",
    "        # Compute the RMSE on the validation split\n",
    "        preds = model.predict(split_X_valid)\n",
    "        error = rmse(split_Y_valid, preds)\n",
    "        acc = accuracy_score(split_Y_valid, preds)\n",
    "        \n",
    "        validation_errors.append(error)\n",
    "        validation_accuracies.append(acc)\n",
    "        \n",
    "    return np.mean(validation_errors), np.mean(validation_accuracies)"
   ]
  },
  {
   "cell_type": "markdown",
   "metadata": {},
   "source": [
    "#### Performing 5-fold cross validation to find optimal preprocessing parameters"
   ]
  },
  {
   "cell_type": "code",
   "execution_count": 5,
   "metadata": {},
   "outputs": [
    {
     "name": "stdout",
     "output_type": "stream",
     "text": [
      "--------------------------------------------------\n",
      "**** k=10, down_sample=True, decriptor_limit=6000****\n",
      "<class 'sklearn.linear_model.logistic.LogisticRegression'>\n"
     ]
    },
    {
     "name": "stderr",
     "output_type": "stream",
     "text": [
      "/Library/Frameworks/Python.framework/Versions/3.7/lib/python3.7/site-packages/sklearn/svm/base.py:929: ConvergenceWarning: Liblinear failed to converge, increase the number of iterations.\n",
      "  \"the number of iterations.\", ConvergenceWarning)\n"
     ]
    },
    {
     "name": "stdout",
     "output_type": "stream",
     "text": [
      "Cross validation mean error: 7.564900453192868\n",
      "Cross validation mean accuracy: 0.19339662046705905\n",
      "Test accuracy: 0.3515625\n",
      "\n",
      "<class 'sklearn.neighbors.classification.KNeighborsClassifier'>\n",
      "Cross validation mean error: 7.408910433907434\n",
      "Cross validation mean accuracy: 0.20821720144294664\n",
      "Test accuracy: 0.28125\n",
      "\n",
      "<class 'sklearn.tree.tree.DecisionTreeClassifier'>\n",
      "Cross validation mean error: 7.086136365302795\n",
      "Cross validation mean accuracy: 0.24131763812416937\n",
      "Test accuracy: 0.3203125\n",
      "\n",
      "<class 'sklearn.ensemble.forest.RandomForestClassifier'>\n",
      "Cross validation mean error: 6.491639674291127\n",
      "Cross validation mean accuracy: 0.3868426048984241\n",
      "Test accuracy: 0.5078125\n",
      "\n",
      "<class 'sklearn.svm.classes.SVC'>\n",
      "Cross validation mean error: 7.724318422916485\n",
      "Cross validation mean accuracy: 0.05052591608126068\n",
      "Test accuracy: 0.359375\n",
      "\n",
      "--------------------------------------------------\n",
      "**** k=10, down_sample=True, decriptor_limit=10000****\n",
      "<class 'sklearn.linear_model.logistic.LogisticRegression'>\n"
     ]
    },
    {
     "name": "stderr",
     "output_type": "stream",
     "text": [
      "/Library/Frameworks/Python.framework/Versions/3.7/lib/python3.7/site-packages/sklearn/svm/base.py:929: ConvergenceWarning: Liblinear failed to converge, increase the number of iterations.\n",
      "  \"the number of iterations.\", ConvergenceWarning)\n"
     ]
    },
    {
     "name": "stdout",
     "output_type": "stream",
     "text": [
      "Cross validation mean error: 7.865535726399997\n",
      "Cross validation mean accuracy: 0.19428137459654454\n",
      "Test accuracy: 0.375\n",
      "\n",
      "<class 'sklearn.neighbors.classification.KNeighborsClassifier'>\n",
      "Cross validation mean error: 7.504420722867789\n",
      "Cross validation mean accuracy: 0.2020201253085248\n",
      "Test accuracy: 0.3359375\n",
      "\n",
      "<class 'sklearn.tree.tree.DecisionTreeClassifier'>\n",
      "Cross validation mean error: 6.979720912750972\n",
      "Cross validation mean accuracy: 0.26389975318017844\n",
      "Test accuracy: 0.2421875\n",
      "\n",
      "<class 'sklearn.ensemble.forest.RandomForestClassifier'>\n",
      "Cross validation mean error: 6.551981585916178\n",
      "Cross validation mean accuracy: 0.40157205240174676\n",
      "Test accuracy: 0.359375\n",
      "\n",
      "<class 'sklearn.svm.classes.SVC'>\n",
      "Cross validation mean error: 9.892869916011657\n",
      "Cross validation mean accuracy: 0.05574330738560851\n",
      "Test accuracy: 0.3046875\n",
      "\n",
      "--------------------------------------------------\n",
      "**** k=10, down_sample=True, decriptor_limit=30000****\n",
      "<class 'sklearn.linear_model.logistic.LogisticRegression'>\n"
     ]
    },
    {
     "name": "stderr",
     "output_type": "stream",
     "text": [
      "/Library/Frameworks/Python.framework/Versions/3.7/lib/python3.7/site-packages/sklearn/svm/base.py:929: ConvergenceWarning: Liblinear failed to converge, increase the number of iterations.\n",
      "  \"the number of iterations.\", ConvergenceWarning)\n"
     ]
    },
    {
     "name": "stdout",
     "output_type": "stream",
     "text": [
      "Cross validation mean error: 7.613266701998924\n",
      "Cross validation mean accuracy: 0.1899259540535409\n",
      "Test accuracy: 0.34375\n",
      "\n",
      "<class 'sklearn.neighbors.classification.KNeighborsClassifier'>\n",
      "Cross validation mean error: 7.628791921141217\n",
      "Cross validation mean accuracy: 0.19513575090184165\n",
      "Test accuracy: 0.1796875\n",
      "\n",
      "<class 'sklearn.tree.tree.DecisionTreeClassifier'>\n",
      "Cross validation mean error: 7.054126826741064\n",
      "Cross validation mean accuracy: 0.2656806531232201\n",
      "Test accuracy: 0.265625\n",
      "\n",
      "<class 'sklearn.ensemble.forest.RandomForestClassifier'>\n",
      "Cross validation mean error: 6.445753448907732\n",
      "Cross validation mean accuracy: 0.3937497626732485\n",
      "Test accuracy: 0.3828125\n",
      "\n",
      "<class 'sklearn.svm.classes.SVC'>\n",
      "Cross validation mean error: 9.335420279283289\n",
      "Cross validation mean accuracy: 0.05053351053730777\n",
      "Test accuracy: 0.296875\n",
      "\n",
      "--------------------------------------------------\n",
      "**** k=10, down_sample=False, decriptor_limit=6000****\n",
      "<class 'sklearn.linear_model.logistic.LogisticRegression'>\n"
     ]
    },
    {
     "name": "stderr",
     "output_type": "stream",
     "text": [
      "/Library/Frameworks/Python.framework/Versions/3.7/lib/python3.7/site-packages/sklearn/svm/base.py:929: ConvergenceWarning: Liblinear failed to converge, increase the number of iterations.\n",
      "  \"the number of iterations.\", ConvergenceWarning)\n"
     ]
    },
    {
     "name": "stdout",
     "output_type": "stream",
     "text": [
      "Cross validation mean error: 7.280924006374994\n",
      "Cross validation mean accuracy: 0.2437037037037037\n",
      "Test accuracy: 0.32450331125827814\n",
      "\n",
      "<class 'sklearn.neighbors.classification.KNeighborsClassifier'>\n",
      "Cross validation mean error: 6.644857283502295\n",
      "Cross validation mean accuracy: 0.27555555555555555\n",
      "Test accuracy: 0.24503311258278146\n",
      "\n",
      "<class 'sklearn.tree.tree.DecisionTreeClassifier'>\n",
      "Cross validation mean error: 6.560789672808758\n",
      "Cross validation mean accuracy: 0.30148148148148146\n",
      "Test accuracy: 0.26490066225165565\n",
      "\n",
      "<class 'sklearn.ensemble.forest.RandomForestClassifier'>\n",
      "Cross validation mean error: 5.837587140889077\n",
      "Cross validation mean accuracy: 0.417037037037037\n",
      "Test accuracy: 0.3973509933774834\n",
      "\n",
      "<class 'sklearn.svm.classes.SVC'>\n",
      "Cross validation mean error: 5.549208995406965\n",
      "Cross validation mean accuracy: 0.0962962962962963\n",
      "Test accuracy: 0.3576158940397351\n",
      "\n",
      "--------------------------------------------------\n",
      "**** k=10, down_sample=False, decriptor_limit=10000****\n",
      "<class 'sklearn.linear_model.logistic.LogisticRegression'>\n"
     ]
    },
    {
     "name": "stderr",
     "output_type": "stream",
     "text": [
      "/Library/Frameworks/Python.framework/Versions/3.7/lib/python3.7/site-packages/sklearn/svm/base.py:929: ConvergenceWarning: Liblinear failed to converge, increase the number of iterations.\n",
      "  \"the number of iterations.\", ConvergenceWarning)\n"
     ]
    },
    {
     "name": "stdout",
     "output_type": "stream",
     "text": [
      "Cross validation mean error: 7.2008511032262374\n",
      "Cross validation mean accuracy: 0.22962962962962963\n",
      "Test accuracy: 0.3973509933774834\n",
      "\n",
      "<class 'sklearn.neighbors.classification.KNeighborsClassifier'>\n",
      "Cross validation mean error: 6.773797535748554\n",
      "Cross validation mean accuracy: 0.24\n",
      "Test accuracy: 0.31788079470198677\n",
      "\n",
      "<class 'sklearn.tree.tree.DecisionTreeClassifier'>\n",
      "Cross validation mean error: 6.413069889944714\n",
      "Cross validation mean accuracy: 0.30074074074074075\n",
      "Test accuracy: 0.33112582781456956\n",
      "\n",
      "<class 'sklearn.ensemble.forest.RandomForestClassifier'>\n",
      "Cross validation mean error: 6.159404615675863\n",
      "Cross validation mean accuracy: 0.397037037037037\n",
      "Test accuracy: 0.5099337748344371\n",
      "\n",
      "<class 'sklearn.svm.classes.SVC'>\n",
      "Cross validation mean error: 5.632687332546181\n",
      "Cross validation mean accuracy: 0.08148148148148149\n",
      "Test accuracy: 0.4503311258278146\n",
      "\n",
      "--------------------------------------------------\n",
      "**** k=10, down_sample=False, decriptor_limit=30000****\n",
      "<class 'sklearn.linear_model.logistic.LogisticRegression'>\n"
     ]
    },
    {
     "name": "stderr",
     "output_type": "stream",
     "text": [
      "/Library/Frameworks/Python.framework/Versions/3.7/lib/python3.7/site-packages/sklearn/svm/base.py:929: ConvergenceWarning: Liblinear failed to converge, increase the number of iterations.\n",
      "  \"the number of iterations.\", ConvergenceWarning)\n"
     ]
    },
    {
     "name": "stdout",
     "output_type": "stream",
     "text": [
      "Cross validation mean error: 7.230799234657584\n",
      "Cross validation mean accuracy: 0.23555555555555557\n",
      "Test accuracy: 0.41721854304635764\n",
      "\n",
      "<class 'sklearn.neighbors.classification.KNeighborsClassifier'>\n",
      "Cross validation mean error: 6.884281930944598\n",
      "Cross validation mean accuracy: 0.24074074074074076\n",
      "Test accuracy: 0.2913907284768212\n",
      "\n",
      "<class 'sklearn.tree.tree.DecisionTreeClassifier'>\n",
      "Cross validation mean error: 6.434260466155029\n",
      "Cross validation mean accuracy: 0.30444444444444446\n",
      "Test accuracy: 0.2781456953642384\n",
      "\n",
      "<class 'sklearn.ensemble.forest.RandomForestClassifier'>\n",
      "Cross validation mean error: 6.059073881220181\n",
      "Cross validation mean accuracy: 0.4022222222222222\n",
      "Test accuracy: 0.44370860927152317\n",
      "\n",
      "<class 'sklearn.svm.classes.SVC'>\n",
      "Cross validation mean error: 5.705335369574389\n",
      "Cross validation mean accuracy: 0.08518518518518518\n",
      "Test accuracy: 0.3576158940397351\n",
      "\n",
      "--------------------------------------------------\n",
      "**** k=100, down_sample=True, decriptor_limit=6000****\n",
      "<class 'sklearn.linear_model.logistic.LogisticRegression'>\n",
      "Cross validation mean error: 7.824983635266082\n",
      "Cross validation mean accuracy: 0.18029998101385988\n",
      "Test accuracy: 0.4375\n",
      "\n",
      "<class 'sklearn.neighbors.classification.KNeighborsClassifier'>\n",
      "Cross validation mean error: 7.665580044481517\n",
      "Cross validation mean accuracy: 0.186428707043858\n",
      "Test accuracy: 0.296875\n",
      "\n",
      "<class 'sklearn.tree.tree.DecisionTreeClassifier'>\n",
      "Cross validation mean error: 6.644258774222178\n",
      "Cross validation mean accuracy: 0.2639567116005316\n",
      "Test accuracy: 0.2734375\n",
      "\n",
      "<class 'sklearn.ensemble.forest.RandomForestClassifier'>\n",
      "Cross validation mean error: 6.469210276297602\n",
      "Cross validation mean accuracy: 0.40765141446743874\n",
      "Test accuracy: 0.4453125\n",
      "\n",
      "<class 'sklearn.svm.classes.SVC'>\n",
      "Cross validation mean error: 8.14932445648228\n",
      "Cross validation mean accuracy: 0.04791342320106322\n",
      "Test accuracy: 0.4296875\n",
      "\n",
      "--------------------------------------------------\n",
      "**** k=100, down_sample=True, decriptor_limit=10000****\n",
      "<class 'sklearn.linear_model.logistic.LogisticRegression'>\n",
      "Cross validation mean error: 7.657604454934358\n",
      "Cross validation mean accuracy: 0.18115056009113345\n",
      "Test accuracy: 0.4140625\n",
      "\n",
      "<class 'sklearn.neighbors.classification.KNeighborsClassifier'>\n",
      "Cross validation mean error: 7.486939439826427\n",
      "Cross validation mean accuracy: 0.19335485095880006\n",
      "Test accuracy: 0.328125\n",
      "\n",
      "<class 'sklearn.tree.tree.DecisionTreeClassifier'>\n",
      "Cross validation mean error: 7.258356798914477\n",
      "Cross validation mean accuracy: 0.22731725840136702\n",
      "Test accuracy: 0.28125\n",
      "\n",
      "<class 'sklearn.ensemble.forest.RandomForestClassifier'>\n",
      "Cross validation mean error: 6.561186065121278\n",
      "Cross validation mean accuracy: 0.40758306436301506\n",
      "Test accuracy: 0.4765625\n",
      "\n",
      "<class 'sklearn.svm.classes.SVC'>\n",
      "Cross validation mean error: 7.436773763618992\n",
      "Cross validation mean accuracy: 0.053100436681222704\n",
      "Test accuracy: 0.40625\n",
      "\n",
      "--------------------------------------------------\n",
      "**** k=100, down_sample=True, decriptor_limit=30000****\n",
      "<class 'sklearn.linear_model.logistic.LogisticRegression'>\n",
      "Cross validation mean error: 7.763143583978452\n",
      "Cross validation mean accuracy: 0.18730966394531992\n",
      "Test accuracy: 0.390625\n",
      "\n",
      "<class 'sklearn.neighbors.classification.KNeighborsClassifier'>\n",
      "Cross validation mean error: 7.312898769440075\n",
      "Cross validation mean accuracy: 0.20293905449022215\n",
      "Test accuracy: 0.265625\n",
      "\n",
      "<class 'sklearn.tree.tree.DecisionTreeClassifier'>\n",
      "Cross validation mean error: 7.075099870609343\n",
      "Cross validation mean accuracy: 0.25174102904879436\n",
      "Test accuracy: 0.1953125\n",
      "\n",
      "<class 'sklearn.ensemble.forest.RandomForestClassifier'>\n",
      "Cross validation mean error: 6.157192789357143\n",
      "Cross validation mean accuracy: 0.4233415606607177\n",
      "Test accuracy: 0.40625\n",
      "\n",
      "<class 'sklearn.svm.classes.SVC'>\n",
      "Cross validation mean error: 10.166089277458585\n",
      "Cross validation mean accuracy: 0.06009872792861211\n",
      "Test accuracy: 0.3828125\n",
      "\n",
      "--------------------------------------------------\n",
      "**** k=100, down_sample=False, decriptor_limit=6000****\n",
      "<class 'sklearn.linear_model.logistic.LogisticRegression'>\n"
     ]
    },
    {
     "name": "stderr",
     "output_type": "stream",
     "text": [
      "/Library/Frameworks/Python.framework/Versions/3.7/lib/python3.7/site-packages/sklearn/svm/base.py:929: ConvergenceWarning: Liblinear failed to converge, increase the number of iterations.\n",
      "  \"the number of iterations.\", ConvergenceWarning)\n"
     ]
    },
    {
     "name": "stdout",
     "output_type": "stream",
     "text": [
      "Cross validation mean error: 7.109885049328733\n",
      "Cross validation mean accuracy: 0.24740740740740744\n",
      "Test accuracy: 0.39072847682119205\n",
      "\n",
      "<class 'sklearn.neighbors.classification.KNeighborsClassifier'>\n",
      "Cross validation mean error: 6.700158780273317\n",
      "Cross validation mean accuracy: 0.25037037037037035\n",
      "Test accuracy: 0.31125827814569534\n",
      "\n",
      "<class 'sklearn.tree.tree.DecisionTreeClassifier'>\n",
      "Cross validation mean error: 6.661424110104913\n",
      "Cross validation mean accuracy: 0.2681481481481482\n",
      "Test accuracy: 0.31788079470198677\n",
      "\n",
      "<class 'sklearn.ensemble.forest.RandomForestClassifier'>\n",
      "Cross validation mean error: 5.824437063079424\n",
      "Cross validation mean accuracy: 0.42666666666666664\n",
      "Test accuracy: 0.4105960264900662\n",
      "\n",
      "<class 'sklearn.svm.classes.SVC'>\n",
      "Cross validation mean error: 5.7384535234863865\n",
      "Cross validation mean accuracy: 0.08222222222222222\n",
      "Test accuracy: 0.3509933774834437\n",
      "\n",
      "--------------------------------------------------\n",
      "**** k=100, down_sample=False, decriptor_limit=10000****\n",
      "<class 'sklearn.linear_model.logistic.LogisticRegression'>\n"
     ]
    },
    {
     "name": "stderr",
     "output_type": "stream",
     "text": [
      "/Library/Frameworks/Python.framework/Versions/3.7/lib/python3.7/site-packages/sklearn/svm/base.py:929: ConvergenceWarning: Liblinear failed to converge, increase the number of iterations.\n",
      "  \"the number of iterations.\", ConvergenceWarning)\n"
     ]
    },
    {
     "name": "stdout",
     "output_type": "stream",
     "text": [
      "Cross validation mean error: 7.31311460349192\n",
      "Cross validation mean accuracy: 0.23407407407407405\n",
      "Test accuracy: 0.423841059602649\n",
      "\n",
      "<class 'sklearn.neighbors.classification.KNeighborsClassifier'>\n",
      "Cross validation mean error: 6.748210341254004\n",
      "Cross validation mean accuracy: 0.24888888888888888\n",
      "Test accuracy: 0.31125827814569534\n",
      "\n",
      "<class 'sklearn.tree.tree.DecisionTreeClassifier'>\n",
      "Cross validation mean error: 6.587746070021751\n",
      "Cross validation mean accuracy: 0.2896296296296296\n",
      "Test accuracy: 0.2847682119205298\n",
      "\n",
      "<class 'sklearn.ensemble.forest.RandomForestClassifier'>\n",
      "Cross validation mean error: 5.881787718094186\n",
      "Cross validation mean accuracy: 0.42592592592592593\n",
      "Test accuracy: 0.3973509933774834\n",
      "\n",
      "<class 'sklearn.svm.classes.SVC'>\n",
      "Cross validation mean error: 5.577845691100394\n",
      "Cross validation mean accuracy: 0.09555555555555556\n",
      "Test accuracy: 0.4304635761589404\n",
      "\n",
      "--------------------------------------------------\n",
      "**** k=100, down_sample=False, decriptor_limit=30000****\n",
      "<class 'sklearn.linear_model.logistic.LogisticRegression'>\n",
      "Cross validation mean error: 7.121644749830023\n",
      "Cross validation mean accuracy: 0.2303703703703704\n",
      "Test accuracy: 0.423841059602649\n",
      "\n",
      "<class 'sklearn.neighbors.classification.KNeighborsClassifier'>\n",
      "Cross validation mean error: 6.770596385175527\n",
      "Cross validation mean accuracy: 0.23555555555555557\n",
      "Test accuracy: 0.3443708609271523\n",
      "\n",
      "<class 'sklearn.tree.tree.DecisionTreeClassifier'>\n",
      "Cross validation mean error: 6.842012003741106\n",
      "Cross validation mean accuracy: 0.27555555555555555\n",
      "Test accuracy: 0.25165562913907286\n",
      "\n",
      "<class 'sklearn.ensemble.forest.RandomForestClassifier'>\n",
      "Cross validation mean error: 5.918250060205663\n",
      "Cross validation mean accuracy: 0.42444444444444446\n",
      "Test accuracy: 0.46357615894039733\n",
      "\n",
      "<class 'sklearn.svm.classes.SVC'>\n",
      "Cross validation mean error: 5.584527681051167\n",
      "Cross validation mean accuracy: 0.09407407407407407\n",
      "Test accuracy: 0.41721854304635764\n",
      "\n",
      "--------------------------------------------------\n",
      "**** k=200, down_sample=True, decriptor_limit=6000****\n",
      "<class 'sklearn.linear_model.logistic.LogisticRegression'>\n",
      "Cross validation mean error: 7.643587496585388\n",
      "Cross validation mean accuracy: 0.18726409720903742\n",
      "Test accuracy: 0.359375\n",
      "\n",
      "<class 'sklearn.neighbors.classification.KNeighborsClassifier'>\n",
      "Cross validation mean error: 7.455701586945324\n",
      "Cross validation mean accuracy: 0.20211885323713688\n",
      "Test accuracy: 0.203125\n",
      "\n",
      "<class 'sklearn.tree.tree.DecisionTreeClassifier'>\n",
      "Cross validation mean error: 7.2381050303029015\n",
      "Cross validation mean accuracy: 0.24738181127776726\n",
      "Test accuracy: 0.265625\n",
      "\n",
      "<class 'sklearn.ensemble.forest.RandomForestClassifier'>\n",
      "Cross validation mean error: 6.545065952876671\n",
      "Cross validation mean accuracy: 0.39286500854376305\n",
      "Test accuracy: 0.453125\n",
      "\n",
      "<class 'sklearn.svm.classes.SVC'>\n",
      "Cross validation mean error: 8.99895463092725\n",
      "Cross validation mean accuracy: 0.051372697930510726\n",
      "Test accuracy: 0.359375\n",
      "\n",
      "--------------------------------------------------\n",
      "**** k=200, down_sample=True, decriptor_limit=10000****\n",
      "<class 'sklearn.linear_model.logistic.LogisticRegression'>\n"
     ]
    },
    {
     "name": "stderr",
     "output_type": "stream",
     "text": [
      "/Library/Frameworks/Python.framework/Versions/3.7/lib/python3.7/site-packages/sklearn/svm/base.py:929: ConvergenceWarning: Liblinear failed to converge, increase the number of iterations.\n",
      "  \"the number of iterations.\", ConvergenceWarning)\n",
      "/Library/Frameworks/Python.framework/Versions/3.7/lib/python3.7/site-packages/sklearn/svm/base.py:929: ConvergenceWarning: Liblinear failed to converge, increase the number of iterations.\n",
      "  \"the number of iterations.\", ConvergenceWarning)\n"
     ]
    },
    {
     "name": "stdout",
     "output_type": "stream",
     "text": [
      "Cross validation mean error: 7.624042288794277\n",
      "Cross validation mean accuracy: 0.1985988228593127\n",
      "Test accuracy: 0.3125\n",
      "\n",
      "<class 'sklearn.neighbors.classification.KNeighborsClassifier'>\n",
      "Cross validation mean error: 7.468905633475191\n",
      "Cross validation mean accuracy: 0.1881488513385229\n",
      "Test accuracy: 0.2109375\n",
      "\n",
      "<class 'sklearn.tree.tree.DecisionTreeClassifier'>\n",
      "Cross validation mean error: 7.020792899246162\n",
      "Cross validation mean accuracy: 0.25172204290867667\n",
      "Test accuracy: 0.2421875\n",
      "\n",
      "<class 'sklearn.ensemble.forest.RandomForestClassifier'>\n",
      "Cross validation mean error: 6.455882089081625\n",
      "Cross validation mean accuracy: 0.41283842794759823\n",
      "Test accuracy: 0.421875\n",
      "\n",
      "<class 'sklearn.svm.classes.SVC'>\n",
      "Cross validation mean error: 8.663346095791729\n",
      "Cross validation mean accuracy: 0.04614011771406872\n",
      "Test accuracy: 0.3515625\n",
      "\n",
      "--------------------------------------------------\n",
      "**** k=200, down_sample=True, decriptor_limit=30000****\n",
      "<class 'sklearn.linear_model.logistic.LogisticRegression'>\n"
     ]
    },
    {
     "name": "stderr",
     "output_type": "stream",
     "text": [
      "/Library/Frameworks/Python.framework/Versions/3.7/lib/python3.7/site-packages/sklearn/svm/base.py:929: ConvergenceWarning: Liblinear failed to converge, increase the number of iterations.\n",
      "  \"the number of iterations.\", ConvergenceWarning)\n"
     ]
    },
    {
     "name": "stdout",
     "output_type": "stream",
     "text": [
      "Cross validation mean error: 7.789096276310393\n",
      "Cross validation mean accuracy: 0.19682931460034175\n",
      "Test accuracy: 0.390625\n",
      "\n",
      "<class 'sklearn.neighbors.classification.KNeighborsClassifier'>\n",
      "Cross validation mean error: 7.690587139624661\n",
      "Cross validation mean accuracy: 0.19249288019745586\n",
      "Test accuracy: 0.25\n",
      "\n",
      "<class 'sklearn.tree.tree.DecisionTreeClassifier'>\n",
      "Cross validation mean error: 7.083369797602562\n",
      "Cross validation mean accuracy: 0.24564268084298463\n",
      "Test accuracy: 0.2265625\n",
      "\n",
      "<class 'sklearn.ensemble.forest.RandomForestClassifier'>\n",
      "Cross validation mean error: 6.288491934847082\n",
      "Cross validation mean accuracy: 0.41372697930510727\n",
      "Test accuracy: 0.3984375\n",
      "\n",
      "<class 'sklearn.svm.classes.SVC'>\n",
      "Cross validation mean error: 8.49087102998101\n",
      "Cross validation mean accuracy: 0.05662426428707044\n",
      "Test accuracy: 0.40625\n",
      "\n",
      "--------------------------------------------------\n",
      "**** k=200, down_sample=False, decriptor_limit=6000****\n",
      "<class 'sklearn.linear_model.logistic.LogisticRegression'>\n",
      "Cross validation mean error: 7.157701840013759\n",
      "Cross validation mean accuracy: 0.22888888888888886\n",
      "Test accuracy: 0.3973509933774834\n",
      "\n",
      "<class 'sklearn.neighbors.classification.KNeighborsClassifier'>\n",
      "Cross validation mean error: 6.972735982051968\n",
      "Cross validation mean accuracy: 0.2333333333333333\n",
      "Test accuracy: 0.304635761589404\n",
      "\n",
      "<class 'sklearn.tree.tree.DecisionTreeClassifier'>\n",
      "Cross validation mean error: 6.520692382806379\n",
      "Cross validation mean accuracy: 0.2925925925925926\n",
      "Test accuracy: 0.3509933774834437\n",
      "\n",
      "<class 'sklearn.ensemble.forest.RandomForestClassifier'>\n",
      "Cross validation mean error: 5.560935018687009\n",
      "Cross validation mean accuracy: 0.4296296296296296\n",
      "Test accuracy: 0.4370860927152318\n",
      "\n",
      "<class 'sklearn.svm.classes.SVC'>\n",
      "Cross validation mean error: 5.560113262312873\n",
      "Cross validation mean accuracy: 0.09333333333333334\n",
      "Test accuracy: 0.41721854304635764\n",
      "\n",
      "--------------------------------------------------\n",
      "**** k=200, down_sample=False, decriptor_limit=10000****\n",
      "<class 'sklearn.linear_model.logistic.LogisticRegression'>\n",
      "Cross validation mean error: 7.261986586633614\n",
      "Cross validation mean accuracy: 0.22074074074074074\n",
      "Test accuracy: 0.4503311258278146\n",
      "\n",
      "<class 'sklearn.neighbors.classification.KNeighborsClassifier'>\n",
      "Cross validation mean error: 6.5801412852464995\n",
      "Cross validation mean accuracy: 0.24\n",
      "Test accuracy: 0.304635761589404\n",
      "\n",
      "<class 'sklearn.tree.tree.DecisionTreeClassifier'>\n",
      "Cross validation mean error: 6.66283071649431\n",
      "Cross validation mean accuracy: 0.28814814814814815\n",
      "Test accuracy: 0.304635761589404\n",
      "\n",
      "<class 'sklearn.ensemble.forest.RandomForestClassifier'>\n",
      "Cross validation mean error: 5.810902825703885\n",
      "Cross validation mean accuracy: 0.42148148148148146\n",
      "Test accuracy: 0.45695364238410596\n",
      "\n",
      "<class 'sklearn.svm.classes.SVC'>\n",
      "Cross validation mean error: 5.537793604145089\n",
      "Cross validation mean accuracy: 0.09333333333333334\n",
      "Test accuracy: 0.46357615894039733\n",
      "\n",
      "--------------------------------------------------\n",
      "**** k=200, down_sample=False, decriptor_limit=30000****\n",
      "<class 'sklearn.linear_model.logistic.LogisticRegression'>\n",
      "Cross validation mean error: 7.252592802403406\n",
      "Cross validation mean accuracy: 0.2325925925925926\n",
      "Test accuracy: 0.4304635761589404\n",
      "\n",
      "<class 'sklearn.neighbors.classification.KNeighborsClassifier'>\n",
      "Cross validation mean error: 6.866671900633929\n",
      "Cross validation mean accuracy: 0.2614814814814815\n",
      "Test accuracy: 0.23178807947019867\n",
      "\n",
      "<class 'sklearn.tree.tree.DecisionTreeClassifier'>\n",
      "Cross validation mean error: 6.784623501116495\n",
      "Cross validation mean accuracy: 0.2822222222222222\n",
      "Test accuracy: 0.25165562913907286\n",
      "\n",
      "<class 'sklearn.ensemble.forest.RandomForestClassifier'>\n",
      "Cross validation mean error: 5.727867721936025\n",
      "Cross validation mean accuracy: 0.42370370370370375\n",
      "Test accuracy: 0.46357615894039733\n",
      "\n",
      "<class 'sklearn.svm.classes.SVC'>\n",
      "Cross validation mean error: 5.794660111140531\n",
      "Cross validation mean accuracy: 0.08148148148148149\n",
      "Test accuracy: 0.4105960264900662\n",
      "\n",
      "--------------------------------------------------\n",
      "**** k=500, down_sample=True, decriptor_limit=6000****\n",
      "<class 'sklearn.linear_model.logistic.LogisticRegression'>\n",
      "Cross validation mean error: 7.539389201636365\n",
      "Cross validation mean accuracy: 0.1941978355800266\n",
      "Test accuracy: 0.3046875\n",
      "\n",
      "<class 'sklearn.neighbors.classification.KNeighborsClassifier'>\n",
      "Cross validation mean error: 7.541201772215612\n",
      "Cross validation mean accuracy: 0.2055781279665844\n",
      "Test accuracy: 0.1171875\n",
      "\n",
      "<class 'sklearn.tree.tree.DecisionTreeClassifier'>\n",
      "Cross validation mean error: 6.816212859779301\n",
      "Cross validation mean accuracy: 0.2413138408961458\n",
      "Test accuracy: 0.2265625\n",
      "\n",
      "<class 'sklearn.ensemble.forest.RandomForestClassifier'>\n",
      "Cross validation mean error: 6.504242004140513\n",
      "Cross validation mean accuracy: 0.396320486045187\n",
      "Test accuracy: 0.375\n",
      "\n",
      "<class 'sklearn.svm.classes.SVC'>\n",
      "Cross validation mean error: 8.952550938455676\n",
      "Cross validation mean accuracy: 0.0470324662996013\n",
      "Test accuracy: 0.3515625\n",
      "\n",
      "--------------------------------------------------\n",
      "**** k=500, down_sample=True, decriptor_limit=10000****\n",
      "<class 'sklearn.linear_model.logistic.LogisticRegression'>\n",
      "Cross validation mean error: 7.84235571034228\n",
      "Cross validation mean accuracy: 0.1803189671539776\n",
      "Test accuracy: 0.3828125\n",
      "\n",
      "<class 'sklearn.neighbors.classification.KNeighborsClassifier'>\n",
      "Cross validation mean error: 7.549444938590949\n",
      "Cross validation mean accuracy: 0.2020770837288779\n",
      "Test accuracy: 0.15625\n",
      "\n",
      "<class 'sklearn.tree.tree.DecisionTreeClassifier'>\n",
      "Cross validation mean error: 7.232032037459557\n",
      "Cross validation mean accuracy: 0.23519650655021831\n",
      "Test accuracy: 0.2734375\n",
      "\n",
      "<class 'sklearn.ensemble.forest.RandomForestClassifier'>\n",
      "Cross validation mean error: 6.354036005685518\n",
      "Cross validation mean accuracy: 0.3893677615340801\n",
      "Test accuracy: 0.4609375\n",
      "\n",
      "<class 'sklearn.svm.classes.SVC'>\n",
      "Cross validation mean error: 7.497991657559277\n",
      "Cross validation mean accuracy: 0.05748623504841466\n",
      "Test accuracy: 0.4375\n",
      "\n",
      "--------------------------------------------------\n",
      "**** k=500, down_sample=True, decriptor_limit=30000****\n",
      "<class 'sklearn.linear_model.logistic.LogisticRegression'>\n",
      "Cross validation mean error: 7.712988737881005\n",
      "Cross validation mean accuracy: 0.19335485095880006\n",
      "Test accuracy: 0.40625\n",
      "\n",
      "<class 'sklearn.neighbors.classification.KNeighborsClassifier'>\n",
      "Cross validation mean error: 7.489085378266161\n",
      "Cross validation mean accuracy: 0.20384279475982536\n",
      "Test accuracy: 0.140625\n",
      "\n",
      "<class 'sklearn.tree.tree.DecisionTreeClassifier'>\n",
      "Cross validation mean error: 7.171224332142837\n",
      "Cross validation mean accuracy: 0.25522308714638314\n",
      "Test accuracy: 0.1875\n",
      "\n",
      "<class 'sklearn.ensemble.forest.RandomForestClassifier'>\n",
      "Cross validation mean error: 6.334289999937126\n",
      "Cross validation mean accuracy: 0.40765141446743874\n",
      "Test accuracy: 0.375\n",
      "\n",
      "<class 'sklearn.svm.classes.SVC'>\n",
      "Cross validation mean error: 8.057104881505603\n",
      "Cross validation mean accuracy: 0.059244351623314984\n",
      "Test accuracy: 0.3828125\n",
      "\n",
      "--------------------------------------------------\n",
      "**** k=500, down_sample=False, decriptor_limit=6000****\n",
      "<class 'sklearn.linear_model.logistic.LogisticRegression'>\n"
     ]
    },
    {
     "name": "stderr",
     "output_type": "stream",
     "text": [
      "/Library/Frameworks/Python.framework/Versions/3.7/lib/python3.7/site-packages/sklearn/svm/base.py:929: ConvergenceWarning: Liblinear failed to converge, increase the number of iterations.\n",
      "  \"the number of iterations.\", ConvergenceWarning)\n"
     ]
    },
    {
     "name": "stdout",
     "output_type": "stream",
     "text": [
      "Cross validation mean error: 7.305144037913399\n",
      "Cross validation mean accuracy: 0.2185185185185185\n",
      "Test accuracy: 0.3708609271523179\n",
      "\n",
      "<class 'sklearn.neighbors.classification.KNeighborsClassifier'>\n",
      "Cross validation mean error: 6.8496967977309975\n",
      "Cross validation mean accuracy: 0.2511111111111111\n",
      "Test accuracy: 0.18543046357615894\n",
      "\n",
      "<class 'sklearn.tree.tree.DecisionTreeClassifier'>\n",
      "Cross validation mean error: 6.742369707142902\n",
      "Cross validation mean accuracy: 0.2785185185185185\n",
      "Test accuracy: 0.33774834437086093\n",
      "\n",
      "<class 'sklearn.ensemble.forest.RandomForestClassifier'>\n",
      "Cross validation mean error: 5.907209544938572\n",
      "Cross validation mean accuracy: 0.4133333333333334\n",
      "Test accuracy: 0.44370860927152317\n",
      "\n",
      "<class 'sklearn.svm.classes.SVC'>\n",
      "Cross validation mean error: 5.6676350093404455\n",
      "Cross validation mean accuracy: 0.07925925925925927\n",
      "Test accuracy: 0.3973509933774834\n",
      "\n",
      "--------------------------------------------------\n",
      "**** k=500, down_sample=False, decriptor_limit=10000****\n",
      "<class 'sklearn.linear_model.logistic.LogisticRegression'>\n",
      "Cross validation mean error: 7.233503805618573\n",
      "Cross validation mean accuracy: 0.2422222222222222\n",
      "Test accuracy: 0.423841059602649\n",
      "\n",
      "<class 'sklearn.neighbors.classification.KNeighborsClassifier'>\n",
      "Cross validation mean error: 6.862880977582817\n",
      "Cross validation mean accuracy: 0.2325925925925926\n",
      "Test accuracy: 0.10596026490066225\n",
      "\n",
      "<class 'sklearn.tree.tree.DecisionTreeClassifier'>\n",
      "Cross validation mean error: 6.700558283270394\n",
      "Cross validation mean accuracy: 0.28444444444444444\n",
      "Test accuracy: 0.23841059602649006\n",
      "\n",
      "<class 'sklearn.ensemble.forest.RandomForestClassifier'>\n",
      "Cross validation mean error: 5.86224658345221\n",
      "Cross validation mean accuracy: 0.4066666666666666\n",
      "Test accuracy: 0.48344370860927155\n",
      "\n",
      "<class 'sklearn.svm.classes.SVC'>\n",
      "Cross validation mean error: 5.594610481363002\n",
      "Cross validation mean accuracy: 0.09407407407407406\n",
      "Test accuracy: 0.41721854304635764\n",
      "\n",
      "--------------------------------------------------\n",
      "**** k=500, down_sample=False, decriptor_limit=30000****\n",
      "<class 'sklearn.linear_model.logistic.LogisticRegression'>\n"
     ]
    },
    {
     "name": "stderr",
     "output_type": "stream",
     "text": [
      "/Library/Frameworks/Python.framework/Versions/3.7/lib/python3.7/site-packages/sklearn/svm/base.py:929: ConvergenceWarning: Liblinear failed to converge, increase the number of iterations.\n",
      "  \"the number of iterations.\", ConvergenceWarning)\n",
      "/Library/Frameworks/Python.framework/Versions/3.7/lib/python3.7/site-packages/sklearn/svm/base.py:929: ConvergenceWarning: Liblinear failed to converge, increase the number of iterations.\n",
      "  \"the number of iterations.\", ConvergenceWarning)\n"
     ]
    },
    {
     "name": "stdout",
     "output_type": "stream",
     "text": [
      "Cross validation mean error: 7.275942237784493\n",
      "Cross validation mean accuracy: 0.22814814814814816\n",
      "Test accuracy: 0.33774834437086093\n",
      "\n",
      "<class 'sklearn.neighbors.classification.KNeighborsClassifier'>\n",
      "Cross validation mean error: 6.890992735653595\n",
      "Cross validation mean accuracy: 0.24666666666666667\n",
      "Test accuracy: 0.1390728476821192\n",
      "\n",
      "<class 'sklearn.tree.tree.DecisionTreeClassifier'>\n",
      "Cross validation mean error: 6.691308831475015\n",
      "Cross validation mean accuracy: 0.29111111111111104\n",
      "Test accuracy: 0.271523178807947\n",
      "\n",
      "<class 'sklearn.ensemble.forest.RandomForestClassifier'>\n",
      "Cross validation mean error: 5.675300685449613\n",
      "Cross validation mean accuracy: 0.4325925925925926\n",
      "Test accuracy: 0.3443708609271523\n",
      "\n",
      "<class 'sklearn.svm.classes.SVC'>\n",
      "Cross validation mean error: 5.55529357157152\n",
      "Cross validation mean accuracy: 0.09481481481481482\n",
      "Test accuracy: 0.3576158940397351\n",
      "\n"
     ]
    }
   ],
   "source": [
    "import sys, os\n",
    "\n",
    "# Disable\n",
    "def blockPrint():\n",
    "    sys.stdout = open(os.devnull, 'w')\n",
    "\n",
    "# Restore\n",
    "def enablePrint():\n",
    "    sys.stdout = sys.__stdout__\n",
    "\n",
    "for k in [10, 100, 200, 500]:\n",
    "    for down_sample in [True, False]:\n",
    "        for descriptor_limit in [6000, 10000, 30000]:\n",
    "            #blockPrint()\n",
    "            training_data = preprocess_part_one(None, True, down_sample)\n",
    "            print('-'*50)\n",
    "            train_part, val_part = train_test_split(training_data, test_size=0.1)\n",
    "            train, val = preprocess_part_two(train_part, val_part, k, descriptor_limit)\n",
    "\n",
    "            train_x, train_y = train.drop(columns=['Label']), train['Label']\n",
    "            val_x, val_y = val.drop(columns=['Label']), val['Label']\n",
    "            \n",
    "            scaler = MinMaxScaler()\n",
    "            train_x_scaled = scaler.fit_transform(train_x)\n",
    "            val_x_scaled = scaler.transform(val_x)\n",
    "            \n",
    "            #enablePrint()\n",
    "            print(f'**** k={k}, down_sample={down_sample}, decriptor_limit={descriptor_limit}****')\n",
    "            \n",
    "            model = LogisticRegression(max_iter=500)\n",
    "            model.fit(train_x_scaled, train_y)\n",
    "            preds = model.predict(val_x_scaled)\n",
    "            print(type(model))\n",
    "            error, acc = compute_CV_rmse_and_acc(model, train_x, train_y)\n",
    "            print(f\"Cross validation mean error: {error}\")\n",
    "            print(f\"Cross validation mean accuracy: {acc}\")\n",
    "            print(f\"Test accuracy: {accuracy_score(val_y, preds)}\\n\")\n",
    "            \n",
    "            \n",
    "            model = KNeighborsClassifier(10, weights='distance')\n",
    "            model.fit(train_x_scaled, train_y)\n",
    "            preds = model.predict(val_x_scaled)\n",
    "            print(type(model))\n",
    "            error, acc = compute_CV_rmse_and_acc(model, train_x, train_y)\n",
    "            print(f\"Cross validation mean error: {error}\")\n",
    "            print(f\"Cross validation mean accuracy: {acc}\")\n",
    "            print(f\"Test accuracy: {accuracy_score(val_y, preds)}\\n\")\n",
    "            \n",
    "            model = DecisionTreeClassifier()\n",
    "            model.fit(train_x_scaled, train_y)\n",
    "            preds = model.predict(val_x_scaled)\n",
    "            print(type(model))\n",
    "            error, acc = compute_CV_rmse_and_acc(model, train_x, train_y)\n",
    "            print(f\"Cross validation mean error: {error}\")\n",
    "            print(f\"Cross validation mean accuracy: {acc}\")\n",
    "            print(f\"Test accuracy: {accuracy_score(val_y, preds)}\\n\")\n",
    "            \n",
    "            model = RandomForestClassifier(n_estimators=800)\n",
    "            model.fit(train_x_scaled, train_y)\n",
    "            preds = model.predict(val_x_scaled)\n",
    "            print(type(model))\n",
    "            error, acc = compute_CV_rmse_and_acc(model, train_x, train_y)\n",
    "            print(f\"Cross validation mean error: {error}\")\n",
    "            print(f\"Cross validation mean accuracy: {acc}\")\n",
    "            print(f\"Test accuracy: {accuracy_score(val_y, preds)}\\n\")\n",
    "            \n",
    "            model = SVC(kernel='rbf',C=10, gamma=0.01)\n",
    "            model.fit(train_x_scaled, train_y)\n",
    "            preds = model.predict(val_x_scaled)\n",
    "            print(type(model))\n",
    "            error, acc = compute_CV_rmse_and_acc(model, train_x, train_y)\n",
    "            print(f\"Cross validation mean error: {error}\")\n",
    "            print(f\"Cross validation mean accuracy: {acc}\")\n",
    "            print(f\"Test accuracy: {accuracy_score(val_y, preds)}\\n\")\n",
    "\n",
    "            "
   ]
  },
  {
   "cell_type": "markdown",
   "metadata": {
    "colab_type": "text",
    "id": "JPgsvYbhbzrs"
   },
   "source": [
    "### Logistic Regression\n",
    "##### Performing  5-fold cross validation for deciding hyper parameters"
   ]
  },
  {
   "cell_type": "code",
   "execution_count": 290,
   "metadata": {
    "colab": {
     "base_uri": "https://localhost:8080/",
     "height": 232
    },
    "colab_type": "code",
    "executionInfo": {
     "elapsed": 1074,
     "status": "error",
     "timestamp": 1574642755220,
     "user": {
      "displayName": "Axel Oevreboe Harstad",
      "photoUrl": "",
      "userId": "00313732855330319553"
     },
     "user_tz": 480
    },
    "id": "p_F4f5Slbzrt",
    "outputId": "4d14a70d-77fb-43e6-98f0-24c5cb84814c"
   },
   "outputs": [
    {
     "name": "stdout",
     "output_type": "stream",
     "text": [
      "Mean RMSE: 6.661046578704598\n",
      "Accuracy: 0.3475\n",
      "\n"
     ]
    }
   ],
   "source": [
    "model = LogisticRegression(multi_class='multinomial', solver= 'lbfgs', penalty='l2', max_iter=1000)\n",
    "\n",
    "error, acc = compute_CV_rmse_and_acc(model, x_train_scaled, y_train)\n",
    "print(f\"Mean RMSE: {error}\")\n",
    "print(f\"Accuracy: {acc}\\n\")"
   ]
  },
  {
   "cell_type": "markdown",
   "metadata": {
    "colab_type": "text",
    "id": "NcCxllL3bzrv"
   },
   "source": [
    "### K-nearest Neighbors\n",
    "##### Predicting training set with 5-fold cross validation"
   ]
  },
  {
   "cell_type": "code",
   "execution_count": 292,
   "metadata": {
    "colab": {},
    "colab_type": "code",
    "id": "OLQdVbRAbzrw"
   },
   "outputs": [
    {
     "name": "stdout",
     "output_type": "stream",
     "text": [
      "Mean RMSE: 6.859133726178034\n",
      "Accuracy: 0.2891666666666667\n",
      "\n"
     ]
    }
   ],
   "source": [
    "model = KNeighborsClassifier(n_neighbors=10, weights='distance')\n",
    "\n",
    "error, acc = compute_CV_rmse_and_acc(model, x_train_scaled, y_train)\n",
    "print(f\"Mean RMSE: {error}\")\n",
    "print(f\"Accuracy: {acc}\\n\")"
   ]
  },
  {
   "cell_type": "markdown",
   "metadata": {
    "colab_type": "text",
    "id": "eyf9J_TLbzry"
   },
   "source": [
    "### Classification Tree"
   ]
  },
  {
   "cell_type": "code",
   "execution_count": 184,
   "metadata": {
    "colab": {},
    "colab_type": "code",
    "id": "LPQlFzuebzry"
   },
   "outputs": [
    {
     "name": "stdout",
     "output_type": "stream",
     "text": [
      "Mean RMSE: 2.774773958756314\n",
      "Accuracy: 0.7183333333333334\n",
      "\n"
     ]
    }
   ],
   "source": [
    "model = DecisionTreeClassifier()\n",
    "\n",
    "error, acc = compute_CV_rmse_and_acc(model, x_train_scaled, y_train)\n",
    "print(f\"Mean RMSE: {error}\")\n",
    "print(f\"Accuracy: {acc}\\n\")"
   ]
  },
  {
   "cell_type": "markdown",
   "metadata": {
    "colab_type": "text",
    "id": "c_T-JIq8bzr1"
   },
   "source": [
    "### Random Forest\n",
    "##### Predicting training set with 5-fold cross validation"
   ]
  },
  {
   "cell_type": "code",
   "execution_count": null,
   "metadata": {
    "colab": {},
    "colab_type": "code",
    "id": "dZ8TnM93bzr1"
   },
   "outputs": [
    {
     "name": "stdout",
     "output_type": "stream",
     "text": [
      "Mean RMSE: 6.934267455506964\n",
      "Accuracy: 0.07416666666666667\n",
      "\n",
      "\n",
      "Most importance features:\n",
      "Feature name: stride_feat_54, Importance=0.004889143313085988\n",
      "Feature name: stride_feat_73, Importance=0.004629313685160276\n",
      "Feature name: stride_feat_74, Importance=0.004492257667117635\n",
      "Feature name: stride_feat_49, Importance=0.004385448282853304\n",
      "Feature name: stride_feat_28, Importance=0.004384583985446212\n",
      "Feature name: stride_feat_97, Importance=0.00436587231331786\n",
      "Feature name: AspectRatio, Importance=0.0043648847306119185\n",
      "Feature name: stride_feat_72, Importance=0.004358104816712034\n",
      "Feature name: stride_feat_91, Importance=0.004302289851897213\n",
      "Feature name: stride_feat_108, Importance=0.004215192398012875\n",
      "Feature name: stride_feat_56, Importance=0.004200022683300562\n",
      "Feature name: stride_feat_111, Importance=0.004192143923326466\n",
      "Feature name: stride_feat_124, Importance=0.0041783881997675566\n",
      "Feature name: stride_feat_140, Importance=0.0041588178861251416\n",
      "Feature name: stride_feat_50, Importance=0.004148726827092951\n"
     ]
    }
   ],
   "source": [
    "error, acc = compute_CV_rmse_and_acc(model, x_train_scaled, y_train)\n",
    "print(f\"Mean RMSE: {error}\")\n",
    "print(f\"Accuracy: {acc}\\n\")\n",
    "\n"
   ]
  },
  {
   "cell_type": "code",
   "execution_count": null,
   "metadata": {},
   "outputs": [],
   "source": [
    "s = model.feature_importances_\n",
    "index_importance_sorted = sorted(range(len(s)), key=lambda k: s[k], reverse=True)\n",
    "top_index = index_importance_sorted[:50]\n",
    "\n",
    "print(\"\\nMost importance features:\")\n",
    "for index in top_index:\n",
    "    print(f\"Feature name: {train_x.columns[index]}, Importance={s[index]}\")"
   ]
  },
  {
   "cell_type": "markdown",
   "metadata": {},
   "source": [
    "#### Performing K-fold grid search to find optimal parameters"
   ]
  },
  {
   "cell_type": "code",
   "execution_count": null,
   "metadata": {},
   "outputs": [],
   "source": [
    "print(model.get_params())\n",
    "\n",
    "from sklearn.model_selection import RandomizedSearchCV\n",
    "# Number of trees in random forest\n",
    "n_estimators = [int(x) for x in np.linspace(start = 200, stop = 2000, num = 10)]\n",
    "# Number of features to consider at every split\n",
    "max_features = ['auto', 'sqrt']\n",
    "# Maximum number of levels in tree\n",
    "max_depth = [int(x) for x in np.linspace(10, 110, num = 11)]\n",
    "max_depth.append(None)\n",
    "# Minimum number of samples required to split a node\n",
    "min_samples_split = [2, 5, 10]\n",
    "# Minimum number of samples required at each leaf node\n",
    "min_samples_leaf = [1, 2, 4]\n",
    "# Method of selecting samples for training each tree\n",
    "bootstrap = [True, False]\n",
    "# Create the random grid\n",
    "random_grid = {'n_estimators': n_estimators,\n",
    "               'max_features': max_features,\n",
    "               'max_depth': max_depth,\n",
    "               'min_samples_split': min_samples_split,\n",
    "               'min_samples_leaf': min_samples_leaf,\n",
    "               'bootstrap': bootstrap}"
   ]
  },
  {
   "cell_type": "code",
   "execution_count": null,
   "metadata": {},
   "outputs": [],
   "source": [
    "# Use the random grid to search for best hyperparameters\n",
    "# First create the base model to tune\n",
    "rf = RandomForestClassifier()\n",
    "# Random search of parameters, using 3 fold cross validation, \n",
    "# search across 100 different combinations, and use all available cores\n",
    "rf_random = RandomizedSearchCV(estimator = rf, param_distributions = random_grid, n_iter = 100, cv = 3, verbose=2, random_state=42, n_jobs = -1)\n",
    "# Fit the random search model\n",
    "rf_random.fit(train_x, train_y)"
   ]
  },
  {
   "cell_type": "code",
   "execution_count": null,
   "metadata": {},
   "outputs": [],
   "source": [
    "rf_random.best_params_"
   ]
  },
  {
   "cell_type": "code",
   "execution_count": null,
   "metadata": {},
   "outputs": [],
   "source": [
    "def evaluate(model, test_features, test_labels):\n",
    "    preds = model.predict(test_features)\n",
    "    accuracy = accuracy_score(preds, test_labels)\n",
    "    print('Accuracy = {:0.2f}%.'.format(100*accuracy))\n",
    "    return accuracy\n",
    "\n",
    "base_model = RandomForestClassifier(n_estimators = 10, random_state = 42)\n",
    "base_model.fit(train_x, train_y)\n",
    "base_accuracy = evaluate(base_model, val_x, val_y)\n",
    "\n",
    "best_random = rf_random.best_estimator_\n",
    "random_accuracy = evaluate(best_random, val_x, val_y)\n",
    "\n",
    "print('Improvement of {:0.2f}%.'.format( 100 * (random_accuracy - base_accuracy) / base_accuracy))\n"
   ]
  },
  {
   "cell_type": "code",
   "execution_count": 303,
   "metadata": {
    "colab": {},
    "colab_type": "code",
    "id": "iTudbrXEbzr4"
   },
   "outputs": [
    {
     "name": "stdout",
     "output_type": "stream",
     "text": [
      "Mean RMSE: 6.522211213377022\n",
      "Accuracy: 0.08416666666666667\n",
      "\n"
     ]
    }
   ],
   "source": [
    "model = SVC(kernel='rbf',C=10, gamma=0.01, decision_function_shape='ovo')\n",
    "\n",
    "error, acc = compute_CV_rmse_and_acc(model, x_train_scaled, y_train)\n",
    "print(f\"Mean RMSE: {error}\")\n",
    "print(f\"Accuracy: {acc}\\n\")"
   ]
  },
  {
   "cell_type": "markdown",
   "metadata": {},
   "source": [
    "### Sources\n",
    "\n",
    "* https://en.wikipedia.org/wiki/Logistic_regression\n",
    "* https://en.wikipedia.org/wiki/Multiclass_classification#One-vs.-rest\n",
    "* https://scikit-learn.org/stable/modules/tree.html#tree\n",
    "* https://en.wikipedia.org/wiki/K-nearest_neighbors_algorithm\n",
    "* https://scikit-learn.org/stable/modules/generated/sklearn.neighbors.KNeighborsClassifier.html\n",
    "* https://en.wikipedia.org/wiki/Random_forest\n",
    "* https://scikit-learn.org/stable/modules/generated/sklearn.ensemble.RandomForestClassifier.html\n",
    "* https://towardsdatascience.com/hyperparameter-tuning-the-random-forest-in-python-using-scikit-learn-28d2aa77dd74"
   ]
  },
  {
   "cell_type": "code",
   "execution_count": null,
   "metadata": {},
   "outputs": [],
   "source": []
  }
 ],
 "metadata": {
  "colab": {
   "collapsed_sections": [],
   "name": "GradProject_NB3.ipynb",
   "provenance": []
  },
  "kernelspec": {
   "display_name": "Python 3",
   "language": "python",
   "name": "python3"
  },
  "language_info": {
   "codemirror_mode": {
    "name": "ipython",
    "version": 3
   },
   "file_extension": ".py",
   "mimetype": "text/x-python",
   "name": "python",
   "nbconvert_exporter": "python",
   "pygments_lexer": "ipython3",
   "version": "3.7.4"
  }
 },
 "nbformat": 4,
 "nbformat_minor": 1
}
