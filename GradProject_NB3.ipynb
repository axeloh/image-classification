{
 "cells": [
  {
   "cell_type": "markdown",
   "metadata": {
    "colab_type": "text",
    "id": "FRn67sI_bzrm"
   },
   "source": [
    "\n",
    "<h1> DS200A Computer Vision Assignment</h1>"
   ]
  },
  {
   "cell_type": "markdown",
   "metadata": {
    "colab_type": "text",
    "id": "PsKiQRYtbzro"
   },
   "source": [
    "<h2>  Part Three: Classifier training and performance assessment. </h2>\t"
   ]
  },
  {
   "cell_type": "code",
   "execution_count": 1,
   "metadata": {
    "colab": {},
    "colab_type": "code",
    "id": "gc2wn_6IBun6"
   },
   "outputs": [
    {
     "name": "stderr",
     "output_type": "stream",
     "text": [
      "/anaconda3/lib/python3.7/site-packages/sklearn/ensemble/weight_boosting.py:29: DeprecationWarning: numpy.core.umath_tests is an internal NumPy module and should not be imported. It will be removed in a future NumPy release.\n",
      "  from numpy.core.umath_tests import inner1d\n"
     ]
    }
   ],
   "source": [
    "import warnings\n",
    "warnings.simplefilter(action='ignore', category=FutureWarning)\n",
    "warnings.simplefilter(action='ignore', category=DeprecationWarning)\n",
    "\n",
    "from sklearn.linear_model import LogisticRegression\n",
    "from sklearn.metrics import accuracy_score\n",
    "from sklearn.model_selection import train_test_split\n",
    "from sklearn.preprocessing import MinMaxScaler, RobustScaler, StandardScaler\n",
    "from sklearn.ensemble import RandomForestClassifier\n",
    "from sklearn.neighbors import KNeighborsClassifier\n",
    "from sklearn.svm import SVC\n",
    "from sklearn.tree import DecisionTreeClassifier\n",
    "import numpy as np\n",
    "from sklearn.model_selection import KFold\n",
    "np.random.seed(42)"
   ]
  },
  {
   "cell_type": "code",
   "execution_count": 2,
   "metadata": {
    "colab": {
     "base_uri": "https://localhost:8080/",
     "height": 122
    },
    "colab_type": "code",
    "executionInfo": {
     "elapsed": 46179,
     "status": "ok",
     "timestamp": 1574673545548,
     "user": {
      "displayName": "Henrik Høiness",
      "photoUrl": "https://lh3.googleusercontent.com/a-/AAuE7mAU_UzKC8CKFaMzdXHG3v2miAUiqbdhU_utY4l9=s64",
      "userId": "05134007726078583058"
     },
     "user_tz": 480
    },
    "id": "OPpevWkU2raj",
    "outputId": "df9ccfce-d6dc-409c-c20e-eea39c7c8305"
   },
   "outputs": [],
   "source": [
    "#from google.colab import drive\n",
    "#drive.mount('/content/drive', force_remount=True)"
   ]
  },
  {
   "cell_type": "markdown",
   "metadata": {
    "colab_type": "text",
    "id": "F2HbJKLRbzrr"
   },
   "source": [
    "#### Retrieving and preprocessing of the training data"
   ]
  },
  {
   "cell_type": "code",
   "execution_count": 5,
   "metadata": {
    "colab": {
     "base_uri": "https://localhost:8080/",
     "height": 164
    },
    "colab_type": "code",
    "executionInfo": {
     "elapsed": 424,
     "status": "error",
     "timestamp": 1574678666514,
     "user": {
      "displayName": "Henrik Høiness",
      "photoUrl": "https://lh3.googleusercontent.com/a-/AAuE7mAU_UzKC8CKFaMzdXHG3v2miAUiqbdhU_utY4l9=s64",
      "userId": "05134007726078583058"
     },
     "user_tz": 480
    },
    "id": "4fkkK5APDZRb",
    "outputId": "87d21858-b8c7-461c-8982-b0b2564fb7a5"
   },
   "outputs": [],
   "source": [
    "from ipynb.fs.defs.GradProject_NB2 import feature_frame\n",
    "from ipynb.fs.defs.GradProject_NB4 import get_precision, get_recall, get_accuracy"
   ]
  },
  {
   "cell_type": "code",
   "execution_count": 195,
   "metadata": {
    "colab": {
     "base_uri": "https://localhost:8080/",
     "height": 351
    },
    "colab_type": "code",
    "executionInfo": {
     "elapsed": 421,
     "status": "error",
     "timestamp": 1574675788370,
     "user": {
      "displayName": "Henrik Høiness",
      "photoUrl": "https://lh3.googleusercontent.com/a-/AAuE7mAU_UzKC8CKFaMzdXHG3v2miAUiqbdhU_utY4l9=s64",
      "userId": "05134007726078583058"
     },
     "user_tz": 480
    },
    "id": "B7Qeocn8Beni",
    "outputId": "c1019e4b-4e96-4ee7-e30b-18bb86dd68a5"
   },
   "outputs": [
    {
     "name": "stdout",
     "output_type": "stream",
     "text": [
      "Fetching label '.DS_Store'\n",
      "Fetching label 'airplanes'\n",
      "Fetching label 'bear'\n",
      "Fetching label 'blimp'\n",
      "\tGray image ('blimp_0022.jpg') was loaded, converting to RGB\n",
      "Fetching label 'comet'\n",
      "\tGray image ('comet_0006.jpg') was loaded, converting to RGB\n",
      "\tGray image ('comet_0011.jpg') was loaded, converting to RGB\n",
      "\tGray image ('comet_0013.jpg') was loaded, converting to RGB\n",
      "\tGray image ('comet_0021.jpg') was loaded, converting to RGB\n",
      "\tGray image ('comet_0036.jpg') was loaded, converting to RGB\n",
      "\tGray image ('comet_0038.jpg') was loaded, converting to RGB\n",
      "\tGray image ('comet_0041.jpg') was loaded, converting to RGB\n",
      "\tGray image ('comet_0049.jpg') was loaded, converting to RGB\n",
      "\tGray image ('comet_0052.jpg') was loaded, converting to RGB\n",
      "\tGray image ('comet_0053.jpg') was loaded, converting to RGB\n",
      "\tGray image ('comet_0057.jpg') was loaded, converting to RGB\n",
      "\tGray image ('comet_0058.jpg') was loaded, converting to RGB\n",
      "Fetching label 'crab'\n",
      "\tGray image ('crab_0045.jpg') was loaded, converting to RGB\n",
      "Fetching label 'dog'\n",
      "Fetching label 'dolphin'\n",
      "\tGray image ('dolphin_0025.jpg') was loaded, converting to RGB\n",
      "Fetching label 'giraffe'\n",
      "Fetching label 'goat'\n",
      "Fetching label 'gorilla'\n",
      "\tGray image ('gorilla_0128.jpg') was loaded, converting to RGB\n",
      "Fetching label 'kangaroo'\n",
      "Fetching label 'killer-whale'\n",
      "Fetching label 'leopards'\n",
      "Fetching label 'llama'\n",
      "Fetching label 'penguin'\n",
      "Fetching label 'porcupine'\n",
      "Fetching label 'teddy-bear'\n",
      "Fetching label 'triceratops'\n",
      "Fetching label 'unicorn'\n",
      "Fetching label 'zebra'\n",
      "[INFO] Trimming images\n",
      "[INFO] Scaling images\n",
      "[INFO] Adding features: size, aspect_ratio, red-, green-, blue- and gray-intensity\n",
      "[INFO] Adding histogram features\n",
      "[INFO] Adding stride features\n"
     ]
    }
   ],
   "source": [
    "data = feature_frame()\n",
    "y = data['Label']\n",
    "x = data.drop(columns=['Label', 'Image_Id'])"
   ]
  },
  {
   "cell_type": "markdown",
   "metadata": {},
   "source": [
    "#### Splitting training data"
   ]
  },
  {
   "cell_type": "code",
   "execution_count": 240,
   "metadata": {},
   "outputs": [],
   "source": [
    "x_train, x_test, y_train, y_test = train_test_split(x, y, test_size=0.2)\n",
    "\n",
    "# Min-Max scaling data\n",
    "scaler = MinMaxScaler()\n",
    "x_train_scaled = scaler.fit_transform(x_train)\n",
    "x_test_scaled = scaler.transform(x_test)"
   ]
  },
  {
   "cell_type": "code",
   "execution_count": 287,
   "metadata": {},
   "outputs": [],
   "source": [
    "# Cross-validation\n",
    "def rmse(actual_y, predicted_y):\n",
    "    \"\"\"\n",
    "    The root mean square error between the prediction and the ground truth\n",
    "    \"\"\"\n",
    "    return np.sqrt(np.sum((actual_y - predicted_y)**2)/len(predicted_y))\n",
    "\n",
    "def compute_CV_rmse_and_acc(model, X_train, Y_train):\n",
    "    '''\n",
    "    Split the training data into 5 subsets.\n",
    "    For each subset, \n",
    "        fit a model holding out that subset\n",
    "        compute the MSE on that subset (the validation set)\n",
    "    You should be fitting 5 models total.\n",
    "    Return the average MSE of these 5 folds.\n",
    "\n",
    "    Args:\n",
    "        model: an sklearn model with fit and predict functions \n",
    "        X_train (data_frame): Training data\n",
    "        Y_train (data_frame): Label \n",
    "\n",
    "    Return:\n",
    "        the average validation error and accuracy for the 5 splits.\n",
    "    '''\n",
    "    kf = KFold(n_splits=5)\n",
    "    validation_errors = []\n",
    "    validation_accuracies = []\n",
    "    \n",
    "    for train_idx, valid_idx in kf.split(X_train):\n",
    "        \n",
    "        # Split the data\n",
    "        split_X_train, split_X_valid = np.take(X_train, train_idx, axis=0), np.take(X_train, valid_idx, axis=0)\n",
    "        split_Y_train, split_Y_valid = np.take(Y_train, train_idx, axis=0), np.take(Y_train, valid_idx, axis=0)\n",
    "        \n",
    "        # Fit the model on the training split\n",
    "        model.fit(split_X_train, split_Y_train)\n",
    "        \n",
    "        # Compute the RMSE on the validation split\n",
    "        preds = model.predict(split_X_valid)\n",
    "        error = rmse(split_Y_valid, preds)\n",
    "        acc = accuracy_score(split_Y_valid, preds)\n",
    "        \n",
    "        validation_errors.append(error)\n",
    "        validation_accuracies.append(acc)\n",
    "        \n",
    "    return np.mean(validation_errors), np.mean(validation_accuracies)"
   ]
  },
  {
   "cell_type": "markdown",
   "metadata": {
    "colab_type": "text",
    "id": "JPgsvYbhbzrs"
   },
   "source": [
    "### Logistic Regression\n",
    "##### Fitting model to training set with 5-fold cross validation"
   ]
  },
  {
   "cell_type": "code",
   "execution_count": 290,
   "metadata": {
    "colab": {
     "base_uri": "https://localhost:8080/",
     "height": 232
    },
    "colab_type": "code",
    "executionInfo": {
     "elapsed": 1074,
     "status": "error",
     "timestamp": 1574642755220,
     "user": {
      "displayName": "Axel Oevreboe Harstad",
      "photoUrl": "",
      "userId": "00313732855330319553"
     },
     "user_tz": 480
    },
    "id": "p_F4f5Slbzrt",
    "outputId": "4d14a70d-77fb-43e6-98f0-24c5cb84814c"
   },
   "outputs": [
    {
     "name": "stdout",
     "output_type": "stream",
     "text": [
      "Mean RMSE: 6.661046578704598\n",
      "Accuracy: 0.3475\n",
      "\n"
     ]
    }
   ],
   "source": [
    "model = LogisticRegression(multi_class='multinomial', solver= 'lbfgs', penalty='l2', max_iter=1000)\n",
    "\n",
    "error, acc = compute_CV_rmse_and_acc(model, x_train_scaled, y_train)\n",
    "print(f\"Mean RMSE: {error}\")\n",
    "print(f\"Accuracy: {acc}\\n\")"
   ]
  },
  {
   "cell_type": "markdown",
   "metadata": {},
   "source": [
    "##### Predicting test set"
   ]
  },
  {
   "cell_type": "code",
   "execution_count": 291,
   "metadata": {},
   "outputs": [
    {
     "name": "stdout",
     "output_type": "stream",
     "text": [
      "Mean RMSE: 6.2955977869473685\n",
      "Test accuracy: 0.3388704318936877\n",
      "\n"
     ]
    }
   ],
   "source": [
    "model = LogisticRegression(multi_class='multinomial', solver= 'newton-cg')\n",
    "\n",
    "model.fit(x_train_scaled, y_train)\n",
    "preds = model.predict(x_test_scaled)\n",
    "print(f\"Mean RMSE: {rmse(y_test, preds)}\")\n",
    "print(f\"Test accuracy: {accuracy_score(y_test, preds)}\\n\")"
   ]
  },
  {
   "cell_type": "markdown",
   "metadata": {
    "colab_type": "text",
    "id": "NcCxllL3bzrv"
   },
   "source": [
    "### K-nearest Neighbors\n",
    "##### Predicting training set with 5-fold cross validation"
   ]
  },
  {
   "cell_type": "code",
   "execution_count": 292,
   "metadata": {
    "colab": {},
    "colab_type": "code",
    "id": "OLQdVbRAbzrw"
   },
   "outputs": [
    {
     "name": "stdout",
     "output_type": "stream",
     "text": [
      "Mean RMSE: 6.859133726178034\n",
      "Accuracy: 0.2891666666666667\n",
      "\n"
     ]
    }
   ],
   "source": [
    "model = KNeighborsClassifier(n_neighbors=10, weights='distance')\n",
    "\n",
    "error, acc = compute_CV_rmse_and_acc(model, x_train_scaled, y_train)\n",
    "print(f\"Mean RMSE: {error}\")\n",
    "print(f\"Accuracy: {acc}\\n\")"
   ]
  },
  {
   "cell_type": "markdown",
   "metadata": {},
   "source": [
    "##### Predicting test set"
   ]
  },
  {
   "cell_type": "code",
   "execution_count": 293,
   "metadata": {},
   "outputs": [
    {
     "name": "stdout",
     "output_type": "stream",
     "text": [
      "Mean RMSE: 6.592807920686736\n",
      "Test accuracy: 0.27906976744186046\n",
      "\n"
     ]
    }
   ],
   "source": [
    "model = KNeighborsClassifier(10, weights='distance')\n",
    "\n",
    "model.fit(x_train_scaled, y_train)\n",
    "preds = model.predict(x_test_scaled)\n",
    "print(f\"Mean RMSE: {rmse(y_test, preds)}\")\n",
    "print(f\"Test accuracy: {accuracy_score(y_test, preds)}\\n\")"
   ]
  },
  {
   "cell_type": "markdown",
   "metadata": {
    "colab_type": "text",
    "id": "eyf9J_TLbzry"
   },
   "source": [
    "### Classification Tree\n",
    "##### Predicting training set with 5-fold cross validation"
   ]
  },
  {
   "cell_type": "code",
   "execution_count": 294,
   "metadata": {
    "colab": {},
    "colab_type": "code",
    "id": "LPQlFzuebzry"
   },
   "outputs": [
    {
     "name": "stdout",
     "output_type": "stream",
     "text": [
      "Mean RMSE: 6.895212250220446\n",
      "Accuracy: 0.225\n",
      "\n"
     ]
    }
   ],
   "source": [
    "model = DecisionTreeClassifier()\n",
    "\n",
    "error, acc = compute_CV_rmse_and_acc(model, x_train_scaled, y_train)\n",
    "print(f\"Mean RMSE: {error}\")\n",
    "print(f\"Accuracy: {acc}\\n\")"
   ]
  },
  {
   "cell_type": "markdown",
   "metadata": {},
   "source": [
    "##### Predicting test set"
   ]
  },
  {
   "cell_type": "code",
   "execution_count": 295,
   "metadata": {},
   "outputs": [
    {
     "name": "stdout",
     "output_type": "stream",
     "text": [
      "Mean RMSE: 6.521622609580688\n",
      "Test accuracy: 0.3089700996677741\n",
      "\n"
     ]
    }
   ],
   "source": [
    "model = DecisionTreeClassifier()\n",
    "\n",
    "model.fit(x_train_scaled, y_train)\n",
    "preds = model.predict(x_test_scaled)\n",
    "print(f\"Mean RMSE: {rmse(y_test, preds)}\")\n",
    "print(f\"Test accuracy: {accuracy_score(y_test, preds)}\\n\")"
   ]
  },
  {
   "cell_type": "markdown",
   "metadata": {
    "colab_type": "text",
    "id": "c_T-JIq8bzr1"
   },
   "source": [
    "### Random Forest\n",
    "##### Predicting training set with 5-fold cross validation"
   ]
  },
  {
   "cell_type": "code",
   "execution_count": 296,
   "metadata": {
    "colab": {},
    "colab_type": "code",
    "id": "dZ8TnM93bzr1"
   },
   "outputs": [
    {
     "name": "stdout",
     "output_type": "stream",
     "text": [
      "Mean RMSE: 6.934267455506964\n",
      "Accuracy: 0.07416666666666667\n",
      "\n",
      "\n",
      "Most importance features:\n",
      "Feature name: stride_feat_54, Importance=0.004889143313085988\n",
      "Feature name: stride_feat_73, Importance=0.004629313685160276\n",
      "Feature name: stride_feat_74, Importance=0.004492257667117635\n",
      "Feature name: stride_feat_49, Importance=0.004385448282853304\n",
      "Feature name: stride_feat_28, Importance=0.004384583985446212\n",
      "Feature name: stride_feat_97, Importance=0.00436587231331786\n",
      "Feature name: AspectRatio, Importance=0.0043648847306119185\n",
      "Feature name: stride_feat_72, Importance=0.004358104816712034\n",
      "Feature name: stride_feat_91, Importance=0.004302289851897213\n",
      "Feature name: stride_feat_108, Importance=0.004215192398012875\n",
      "Feature name: stride_feat_56, Importance=0.004200022683300562\n",
      "Feature name: stride_feat_111, Importance=0.004192143923326466\n",
      "Feature name: stride_feat_124, Importance=0.0041783881997675566\n",
      "Feature name: stride_feat_140, Importance=0.0041588178861251416\n",
      "Feature name: stride_feat_50, Importance=0.004148726827092951\n"
     ]
    }
   ],
   "source": [
    "model = RandomForestClassifier(n_estimators=500)\n",
    "\n",
    "x_train, x_test, y_train, y_test = train_test_split(x, y, test_size=0.2)\n",
    "error, acc = compute_CV_rmse_and_acc(model, x_train_scaled, y_train)\n",
    "print(f\"Mean RMSE: {error}\")\n",
    "print(f\"Accuracy: {acc}\\n\")\n",
    "\n",
    "s = model.feature_importances_\n",
    "index_importance_sorted = sorted(range(len(s)), key=lambda k: s[k], reverse=True)\n",
    "top_index = index_importance_sorted[:15]\n",
    "\n",
    "print(\"\\nMost importance features:\")\n",
    "for index in top_index:\n",
    "    print(f\"Feature name: {x_train.columns[index]}, Importance={s[index]}\")"
   ]
  },
  {
   "cell_type": "markdown",
   "metadata": {},
   "source": [
    "##### Predicting test set"
   ]
  },
  {
   "cell_type": "code",
   "execution_count": 297,
   "metadata": {},
   "outputs": [
    {
     "name": "stdout",
     "output_type": "stream",
     "text": [
      "Mean RMSE: 6.772771359915209\n",
      "Test accuracy: 0.07641196013289037\n",
      "\n"
     ]
    }
   ],
   "source": [
    "model = RandomForestClassifier(n_estimators=500)\n",
    "\n",
    "model.fit(x_train_scaled, y_train)\n",
    "preds = model.predict(x_test_scaled)\n",
    "print(f\"Mean RMSE: {rmse(y_test, preds)}\")\n",
    "print(f\"Test accuracy: {accuracy_score(y_test, preds)}\\n\")"
   ]
  },
  {
   "cell_type": "markdown",
   "metadata": {
    "colab_type": "text",
    "id": "tLTUsV_Ibzr3"
   },
   "source": [
    "### Support Vector Machine\n",
    "##### Predicting training set with 5-fold cross validation"
   ]
  },
  {
   "cell_type": "code",
   "execution_count": 303,
   "metadata": {
    "colab": {},
    "colab_type": "code",
    "id": "iTudbrXEbzr4"
   },
   "outputs": [
    {
     "name": "stdout",
     "output_type": "stream",
     "text": [
      "Mean RMSE: 6.522211213377022\n",
      "Accuracy: 0.08416666666666667\n",
      "\n"
     ]
    }
   ],
   "source": [
    "model = SVC(kernel='rbf',C=10, gamma=0.01, decision_function_shape='ovo')\n",
    "\n",
    "error, acc = compute_CV_rmse_and_acc(model, x_train_scaled, y_train)\n",
    "print(f\"Mean RMSE: {error}\")\n",
    "print(f\"Accuracy: {acc}\\n\")"
   ]
  },
  {
   "cell_type": "markdown",
   "metadata": {},
   "source": [
    "##### Predicting test set"
   ]
  },
  {
   "cell_type": "code",
   "execution_count": 299,
   "metadata": {},
   "outputs": [
    {
     "name": "stdout",
     "output_type": "stream",
     "text": [
      "Mean RMSE: 6.4853527787200465\n",
      "Test accuracy: 0.0664451827242525\n",
      "\n"
     ]
    }
   ],
   "source": [
    "model = SVC(kernel='rbf',C=10, gamma=0.01)\n",
    "\n",
    "model.fit(x_train_scaled, y_train)\n",
    "preds = model.predict(x_test_scaled)\n",
    "print(f\"Mean RMSE: {rmse(y_test, preds)}\")\n",
    "print(f\"Test accuracy: {accuracy_score(y_test, preds)}\\n\")"
   ]
  },
  {
   "cell_type": "markdown",
   "metadata": {},
   "source": [
    "### Sources\n",
    "\n",
    "* https://en.wikipedia.org/wiki/Logistic_regression\n",
    "* https://en.wikipedia.org/wiki/Multiclass_classification#One-vs.-rest\n",
    "* https://scikit-learn.org/stable/modules/tree.html#tree\n",
    "* https://en.wikipedia.org/wiki/K-nearest_neighbors_algorithm\n",
    "* https://scikit-learn.org/stable/modules/generated/sklearn.neighbors.KNeighborsClassifier.html\n",
    "* https://en.wikipedia.org/wiki/Random_forest\n",
    "* https://scikit-learn.org/stable/modules/generated/sklearn.ensemble.RandomForestClassifier.html\n",
    "* "
   ]
  },
  {
   "cell_type": "code",
   "execution_count": null,
   "metadata": {},
   "outputs": [],
   "source": []
  }
 ],
 "metadata": {
  "colab": {
   "collapsed_sections": [],
   "name": "GradProject_NB3.ipynb",
   "provenance": []
  },
  "kernelspec": {
   "display_name": "Python 3",
   "language": "python",
   "name": "python3"
  },
  "language_info": {
   "codemirror_mode": {
    "name": "ipython",
    "version": 3
   },
   "file_extension": ".py",
   "mimetype": "text/x-python",
   "name": "python",
   "nbconvert_exporter": "python",
   "pygments_lexer": "ipython3",
   "version": "3.7.2"
  }
 },
 "nbformat": 4,
 "nbformat_minor": 1
}
