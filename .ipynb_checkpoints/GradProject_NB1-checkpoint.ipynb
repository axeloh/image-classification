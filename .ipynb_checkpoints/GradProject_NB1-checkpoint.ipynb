version https://git-lfs.github.com/spec/v1
oid sha256:9c86478fb3578fbd8ce68b0e7c6b979e5c2dfaf016d0a548c8b5f19260455eac
size 35345
