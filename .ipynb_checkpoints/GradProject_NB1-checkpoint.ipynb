{
 "cells": [
  {
   "cell_type": "markdown",
   "metadata": {
    "colab_type": "text",
    "id": "xfAiy9a8bXJD"
   },
   "source": [
    "<h1> DS200A Computer Vision Assignment</h1>"
   ]
  },
  {
   "cell_type": "markdown",
   "metadata": {
    "colab_type": "text",
    "id": "fSXPCRp4bXJE"
   },
   "source": [
    "<h2>  Part One: Data Input </h2>\t\n"
   ]
  },
  {
   "cell_type": "markdown",
   "metadata": {
    "colab_type": "text",
    "id": "yIEbltPabXJF"
   },
   "source": [
    "<h3>  Import Statements </h3>\t\n"
   ]
  },
  {
   "cell_type": "code",
   "execution_count": 1,
   "metadata": {
    "colab": {
     "base_uri": "https://localhost:8080/",
     "height": 34
    },
    "colab_type": "code",
    "executionInfo": {
     "elapsed": 812,
     "status": "ok",
     "timestamp": 1574645571577,
     "user": {
      "displayName": "Henrik Høiness",
      "photoUrl": "https://lh3.googleusercontent.com/a-/AAuE7mAU_UzKC8CKFaMzdXHG3v2miAUiqbdhU_utY4l9=s64",
      "userId": "05134007726078583058"
     },
     "user_tz": 480
    },
    "id": "dNdLpB2JbXJG",
    "outputId": "cb15de07-7aa4-44c9-ebd5-80dd703ea428"
   },
   "outputs": [],
   "source": [
    "import numpy as np\n",
    "import matplotlib.pyplot as plt\n",
    "import pandas as pd\n",
    "import matplotlib\n",
    "import skimage\n",
    "from skimage import data\n",
    "from skimage import io\n",
    "import os\n",
    "import cv2\n",
    "\n",
    "#from google.colab import drive\n",
    "#drive.mount('/content/drive')"
   ]
  },
  {
   "cell_type": "markdown",
   "metadata": {
    "colab_type": "text",
    "id": "hKmtncj_bXJM"
   },
   "source": [
    "<h4> Using the code for reference, take the given folder and create a dataframe with the picture object, and the encoding as listed below. </h4>\t\n",
    "0=Airplanes, 1=Bear, 2=Blimp, 3=Comet, 4=Crab, 5=Dog, 6=Dolphin, 7=Giraffe, 8=Goat, 9=Gorilla, 10=Kangaroo, 11=Killer-Whale, 12=Leopards, 13=Llama, 14= Penguin, 15= Porcupine, 16=Teddy-Bear, 17=Triceratops, 18=Unicorn, 19=Zebra"
   ]
  },
  {
   "cell_type": "code",
   "execution_count": 2,
   "metadata": {
    "colab": {},
    "colab_type": "code",
    "id": "nLkdS3KgbXJM"
   },
   "outputs": [],
   "source": [
    "def read_training_data(subset=False):\n",
    "    data_path = 'Training'\n",
    "    folders = sorted(os.listdir(data_path))\n",
    "    images, labels = [], []\n",
    "    label_dict = {}\n",
    "\n",
    "    for label_no in range(len(folders)):\n",
    "        folder = folders[label_no]\n",
    "        print(f\"Fetching label '{folder}'\")\n",
    "        label_dict[label_no] = folder\n",
    "        if folder == \".DS_Store\":\n",
    "            continue\n",
    "            \n",
    "        oslistdir = sorted(os.listdir(f\"{data_path}/{folder}\"))\n",
    "        oslistdir = oslistdir[:10] if subset else oslistdir\n",
    "        for image_name in oslistdir:\n",
    "            if image_name == \".DS_Store\":\n",
    "                continue\n",
    "\n",
    "            image_path = f\"{data_path}/{folders[label_no]}/{image_name}\"\n",
    "            try:\n",
    "                image = io.imread(image_path)\n",
    "\n",
    "                # If image is grayscale\n",
    "                if len(image.shape) == 2:\n",
    "                    print(f\"\\tGray image ('{image_name}') was loaded, converting to RGB\")\n",
    "                    image = cv2.cvtColor(image, cv2.COLOR_GRAY2RGB)\n",
    "\n",
    "                images.append(image)\n",
    "                labels.append(label_no)\n",
    "            except:\n",
    "                print(\"[ERROR LOADING]\",image_path)\n",
    "            \n",
    "    \n",
    "    df = pd.DataFrame()\n",
    "    df['Image_Id'] = [i for i in range(len(images))]\n",
    "    df['Image'] = images\n",
    "    df['Label'] = labels\n",
    "    return df, label_dict\n",
    "\n",
    "def read_validation_data():\n",
    "    data_path = 'drive/My Drive/Final Project - CS200/Validation'\n",
    "    folders = sorted(os.listdir(data_path))\n",
    "    images, labels = [], []\n",
    "\n",
    "    for image_name in os.listdir(data_path):\n",
    "        if image_name == \".DS_Store\":\n",
    "            continue\n",
    "\n",
    "        image_path = f\"{data_path}/{image_name}\"\n",
    "        try:\n",
    "            image = io.imread(image_path)\n",
    "            images.append(image)\n",
    "        except:\n",
    "            print(\"[ERROR LOADING]\",image_path)\n",
    "\n",
    "    df = pd.DataFrame()\n",
    "    df['Image'] = images\n",
    "    return df\n",
    "  "
   ]
  },
  {
   "cell_type": "code",
   "execution_count": 5,
   "metadata": {
    "colab": {},
    "colab_type": "code",
    "id": "4ei0rHpMbXJP"
   },
   "outputs": [],
   "source": [
    "#training_data = read_training_data()\n",
    "#training_data.shape"
   ]
  },
  {
   "cell_type": "code",
   "execution_count": 6,
   "metadata": {
    "colab": {},
    "colab_type": "code",
    "id": "yXuDmo5wFpfH"
   },
   "outputs": [],
   "source": [
    "#validation_data = read_validation_data()\n",
    "#validation_data.shape"
   ]
  },
  {
   "cell_type": "code",
   "execution_count": 0,
   "metadata": {
    "colab": {},
    "colab_type": "code",
    "id": "10IzInRJ-muJ"
   },
   "outputs": [],
   "source": []
  }
 ],
 "metadata": {
  "accelerator": "GPU",
  "colab": {
   "collapsed_sections": [],
   "name": "GradProject_NB1.ipynb",
   "provenance": []
  },
  "kernelspec": {
   "display_name": "Python 3",
   "language": "python",
   "name": "python3"
  },
  "language_info": {
   "codemirror_mode": {
    "name": "ipython",
    "version": 3
   },
   "file_extension": ".py",
   "mimetype": "text/x-python",
   "name": "python",
   "nbconvert_exporter": "python",
   "pygments_lexer": "ipython3",
   "version": "3.7.2"
  }
 },
 "nbformat": 4,
 "nbformat_minor": 1
}
