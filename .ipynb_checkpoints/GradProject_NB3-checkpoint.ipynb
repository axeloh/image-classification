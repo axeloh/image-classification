{
 "cells": [
  {
   "cell_type": "markdown",
   "metadata": {
    "colab_type": "text",
    "id": "FRn67sI_bzrm"
   },
   "source": [
    "\n",
    "<h1> DS200A Computer Vision Assignment</h1>"
   ]
  },
  {
   "cell_type": "markdown",
   "metadata": {
    "colab_type": "text",
    "id": "PsKiQRYtbzro"
   },
   "source": [
    "<h2>  Part Three: Classifier training and performance assessment. </h2>\t"
   ]
  },
  {
   "cell_type": "code",
   "execution_count": 1,
   "metadata": {
    "colab": {},
    "colab_type": "code",
    "id": "gc2wn_6IBun6"
   },
   "outputs": [
    {
     "name": "stderr",
     "output_type": "stream",
     "text": [
      "/anaconda3/lib/python3.7/site-packages/sklearn/ensemble/weight_boosting.py:29: DeprecationWarning: numpy.core.umath_tests is an internal NumPy module and should not be imported. It will be removed in a future NumPy release.\n",
      "  from numpy.core.umath_tests import inner1d\n"
     ]
    }
   ],
   "source": [
    "from sklearn.linear_model import LogisticRegression\n",
    "from sklearn.metrics import accuracy_score\n",
    "from sklearn.model_selection import train_test_split\n",
    "from sklearn.preprocessing import MinMaxScaler, RobustScaler, StandardScaler\n",
    "from sklearn.ensemble import RandomForestClassifier\n",
    "from sklearn.neighbors import KNeighborsClassifier\n",
    "from sklearn.svm import SVC\n",
    "from sklearn.tree import DecisionTreeClassifier\n",
    "\n",
    "import warnings\n",
    "warnings.simplefilter(action='ignore', category=FutureWarning)\n",
    "warnings.simplefilter(action='ignore', category=DeprecationWarning)"
   ]
  },
  {
   "cell_type": "code",
   "execution_count": 2,
   "metadata": {
    "colab": {
     "base_uri": "https://localhost:8080/",
     "height": 122
    },
    "colab_type": "code",
    "executionInfo": {
     "elapsed": 46179,
     "status": "ok",
     "timestamp": 1574673545548,
     "user": {
      "displayName": "Henrik Høiness",
      "photoUrl": "https://lh3.googleusercontent.com/a-/AAuE7mAU_UzKC8CKFaMzdXHG3v2miAUiqbdhU_utY4l9=s64",
      "userId": "05134007726078583058"
     },
     "user_tz": 480
    },
    "id": "OPpevWkU2raj",
    "outputId": "df9ccfce-d6dc-409c-c20e-eea39c7c8305"
   },
   "outputs": [],
   "source": [
    "#from google.colab import drive\n",
    "#drive.mount('/content/drive', force_remount=True)"
   ]
  },
  {
   "cell_type": "code",
   "execution_count": 3,
   "metadata": {
    "colab": {},
    "colab_type": "code",
    "id": "0YM-hAjlbzrp"
   },
   "outputs": [],
   "source": [
    "def train_test_split(df):\n",
    "    \"\"\"\n",
    "    Split the data into a training set, and test set \n",
    "    \"\"\"\n",
    "    return df\n",
    "\n",
    "def accuracy(pred, actual):\n",
    "    \"\"\"\n",
    "    Calculate the accuracy percentage of the predicted values\n",
    "    \"\"\"\n",
    "    return accuracy_score(pred, actual)"
   ]
  },
  {
   "cell_type": "markdown",
   "metadata": {
    "colab_type": "text",
    "id": "F2HbJKLRbzrr"
   },
   "source": [
    "<h3>  Train models using all of the following methods below. Be sure to drop the actual image column, and the encoding</h3>\tTake note of the differences in accuracy, and methods.\n"
   ]
  },
  {
   "cell_type": "code",
   "execution_count": 5,
   "metadata": {
    "colab": {
     "base_uri": "https://localhost:8080/",
     "height": 164
    },
    "colab_type": "code",
    "executionInfo": {
     "elapsed": 424,
     "status": "error",
     "timestamp": 1574678666514,
     "user": {
      "displayName": "Henrik Høiness",
      "photoUrl": "https://lh3.googleusercontent.com/a-/AAuE7mAU_UzKC8CKFaMzdXHG3v2miAUiqbdhU_utY4l9=s64",
      "userId": "05134007726078583058"
     },
     "user_tz": 480
    },
    "id": "4fkkK5APDZRb",
    "outputId": "87d21858-b8c7-461c-8982-b0b2564fb7a5"
   },
   "outputs": [],
   "source": [
    "from ipynb.fs.defs.GradProject_NB2 import calculate_stride_channel_averages"
   ]
  },
  {
   "cell_type": "code",
   "execution_count": null,
   "metadata": {
    "colab": {
     "base_uri": "https://localhost:8080/",
     "height": 351
    },
    "colab_type": "code",
    "executionInfo": {
     "elapsed": 421,
     "status": "error",
     "timestamp": 1574675788370,
     "user": {
      "displayName": "Henrik Høiness",
      "photoUrl": "https://lh3.googleusercontent.com/a-/AAuE7mAU_UzKC8CKFaMzdXHG3v2miAUiqbdhU_utY4l9=s64",
      "userId": "05134007726078583058"
     },
     "user_tz": 480
    },
    "id": "B7Qeocn8Beni",
    "outputId": "c1019e4b-4e96-4ee7-e30b-18bb86dd68a5"
   },
   "outputs": [
    {
     "name": "stdout",
     "output_type": "stream",
     "text": [
      "Fetching label '.DS_Store'\n",
      "Fetching label 'airplanes'\n",
      "Fetching label 'bear'\n",
      "Fetching label 'blimp'\n",
      "\tGray image ('blimp_0022.jpg') was loaded, converting to RGB\n",
      "Fetching label 'comet'\n",
      "\tGray image ('comet_0006.jpg') was loaded, converting to RGB\n",
      "\tGray image ('comet_0011.jpg') was loaded, converting to RGB\n",
      "\tGray image ('comet_0013.jpg') was loaded, converting to RGB\n",
      "\tGray image ('comet_0021.jpg') was loaded, converting to RGB\n",
      "\tGray image ('comet_0036.jpg') was loaded, converting to RGB\n",
      "\tGray image ('comet_0038.jpg') was loaded, converting to RGB\n",
      "\tGray image ('comet_0041.jpg') was loaded, converting to RGB\n",
      "\tGray image ('comet_0049.jpg') was loaded, converting to RGB\n",
      "\tGray image ('comet_0052.jpg') was loaded, converting to RGB\n",
      "\tGray image ('comet_0053.jpg') was loaded, converting to RGB\n",
      "\tGray image ('comet_0057.jpg') was loaded, converting to RGB\n",
      "\tGray image ('comet_0058.jpg') was loaded, converting to RGB\n",
      "Fetching label 'crab'\n",
      "\tGray image ('crab_0045.jpg') was loaded, converting to RGB\n",
      "Fetching label 'dog'\n",
      "Fetching label 'dolphin'\n",
      "\tGray image ('dolphin_0025.jpg') was loaded, converting to RGB\n",
      "Fetching label 'giraffe'\n",
      "Fetching label 'goat'\n",
      "Fetching label 'gorilla'\n",
      "\tGray image ('gorilla_0128.jpg') was loaded, converting to RGB\n",
      "Fetching label 'kangaroo'\n",
      "Fetching label 'killer-whale'\n",
      "Fetching label 'leopards'\n",
      "Fetching label 'llama'\n",
      "Fetching label 'penguin'\n",
      "Fetching label 'porcupine'\n",
      "Fetching label 'teddy-bear'\n",
      "Fetching label 'triceratops'\n",
      "Fetching label 'unicorn'\n",
      "Fetching label 'zebra'\n"
     ]
    }
   ],
   "source": [
    "data = feature_frame()\n",
    "y = data['Label']\n",
    "x = data.drop(columns=['Label'])\n",
    "print(\"Done preprocessing\")\n",
    "\n",
    "x_train, x_test, y_train, y_test = train_test_split(x, y, test_size=0.2)\n",
    "\n",
    "scaler = MinMaxScaler()\n",
    "x_train_scaled = scaler.fit_transform(x_train)\n",
    "x_test_scaled = scaler.transform(x_test)"
   ]
  },
  {
   "cell_type": "markdown",
   "metadata": {
    "colab_type": "text",
    "id": "JPgsvYbhbzrs"
   },
   "source": [
    "Logistic Regression"
   ]
  },
  {
   "cell_type": "code",
   "execution_count": 0,
   "metadata": {
    "colab": {
     "base_uri": "https://localhost:8080/",
     "height": 232
    },
    "colab_type": "code",
    "executionInfo": {
     "elapsed": 1074,
     "status": "error",
     "timestamp": 1574642755220,
     "user": {
      "displayName": "Axel Oevreboe Harstad",
      "photoUrl": "",
      "userId": "00313732855330319553"
     },
     "user_tz": 480
    },
    "id": "p_F4f5Slbzrt",
    "outputId": "4d14a70d-77fb-43e6-98f0-24c5cb84814c"
   },
   "outputs": [
    {
     "ename": "NameError",
     "evalue": "ignored",
     "output_type": "error",
     "traceback": [
      "\u001b[0;31m---------------------------------------------------------------------------\u001b[0m",
      "\u001b[0;31mNameError\u001b[0m                                 Traceback (most recent call last)",
      "\u001b[0;32m<ipython-input-2-c4dd0718710e>\u001b[0m in \u001b[0;36m<module>\u001b[0;34m()\u001b[0m\n\u001b[0;32m----> 1\u001b[0;31m \u001b[0mmodel\u001b[0m \u001b[0;34m=\u001b[0m \u001b[0mLogisticRegression\u001b[0m\u001b[0;34m(\u001b[0m\u001b[0;34m)\u001b[0m\u001b[0;34m\u001b[0m\u001b[0;34m\u001b[0m\u001b[0m\n\u001b[0m\u001b[1;32m      2\u001b[0m \u001b[0mmodel\u001b[0m\u001b[0;34m.\u001b[0m\u001b[0mfit\u001b[0m\u001b[0;34m(\u001b[0m\u001b[0mx_train_scaled\u001b[0m\u001b[0;34m,\u001b[0m \u001b[0my_train\u001b[0m\u001b[0;34m)\u001b[0m\u001b[0;34m\u001b[0m\u001b[0;34m\u001b[0m\u001b[0m\n\u001b[1;32m      3\u001b[0m \u001b[0mpreds\u001b[0m \u001b[0;34m=\u001b[0m \u001b[0mmodel\u001b[0m\u001b[0;34m.\u001b[0m\u001b[0mpredict\u001b[0m\u001b[0;34m(\u001b[0m\u001b[0mx_test_scaled\u001b[0m\u001b[0;34m)\u001b[0m\u001b[0;34m\u001b[0m\u001b[0;34m\u001b[0m\u001b[0m\n\u001b[1;32m      4\u001b[0m \u001b[0macc\u001b[0m \u001b[0;34m=\u001b[0m \u001b[0maccuracy_score\u001b[0m\u001b[0;34m(\u001b[0m\u001b[0mpreds\u001b[0m\u001b[0;34m,\u001b[0m \u001b[0my_test\u001b[0m\u001b[0;34m)\u001b[0m\u001b[0;34m\u001b[0m\u001b[0;34m\u001b[0m\u001b[0m\n\u001b[1;32m      5\u001b[0m \u001b[0mprint\u001b[0m\u001b[0;34m(\u001b[0m\u001b[0macc\u001b[0m\u001b[0;34m)\u001b[0m\u001b[0;34m\u001b[0m\u001b[0;34m\u001b[0m\u001b[0m\n",
      "\u001b[0;31mNameError\u001b[0m: name 'LogisticRegression' is not defined"
     ]
    }
   ],
   "source": [
    "model = LogisticRegression()\n",
    "model.fit(x_train_scaled, y_train)\n",
    "preds = model.predict(x_test_scaled)\n",
    "acc = accuracy_score(preds, y_test)\n",
    "print(acc)"
   ]
  },
  {
   "cell_type": "markdown",
   "metadata": {
    "colab_type": "text",
    "id": "NcCxllL3bzrv"
   },
   "source": [
    "K-nearest Neighbors"
   ]
  },
  {
   "cell_type": "code",
   "execution_count": 0,
   "metadata": {
    "colab": {},
    "colab_type": "code",
    "id": "OLQdVbRAbzrw"
   },
   "outputs": [],
   "source": []
  },
  {
   "cell_type": "markdown",
   "metadata": {
    "colab_type": "text",
    "id": "eyf9J_TLbzry"
   },
   "source": [
    "Classification Tree"
   ]
  },
  {
   "cell_type": "code",
   "execution_count": 0,
   "metadata": {
    "colab": {},
    "colab_type": "code",
    "id": "LPQlFzuebzry"
   },
   "outputs": [],
   "source": [
    "model = DecisionTreeClassifier()\n",
    "model.fit(x_train, y_train)\n",
    "preds = model.predict(x_test)\n",
    "acc = accuracy_score(preds, y_test)\n",
    "print(acc)"
   ]
  },
  {
   "cell_type": "markdown",
   "metadata": {
    "colab_type": "text",
    "id": "c_T-JIq8bzr1"
   },
   "source": [
    "Random Forest"
   ]
  },
  {
   "cell_type": "code",
   "execution_count": 0,
   "metadata": {
    "colab": {},
    "colab_type": "code",
    "id": "dZ8TnM93bzr1"
   },
   "outputs": [],
   "source": [
    "model = RandomForestClassifier()\n",
    "model.fit(x_train, y_train)\n",
    "preds = model.predict(x_test)\n",
    "acc = accuracy_score(preds, y_test)\n",
    "print(acc)\n",
    "\n",
    " s = model.feature_importances_\n",
    " print(s[:10])\n",
    " index_importance_sorted = sorted(range(len(s)), key=lambda k: s[k], reverse=True)\n",
    " print(index_importance_sorted[:10])\n",
    " top_index = index_importance_sorted[:15]\n",
    " print(\"Most importance features:\")\n",
    " for index in top_index:\n",
    "     print(f\"Feature name: {x_train.columns[index]}, Importance={s[index]}\")"
   ]
  },
  {
   "cell_type": "markdown",
   "metadata": {
    "colab_type": "text",
    "id": "tLTUsV_Ibzr3"
   },
   "source": [
    "Support Vector Machine"
   ]
  },
  {
   "cell_type": "code",
   "execution_count": 0,
   "metadata": {
    "colab": {},
    "colab_type": "code",
    "id": "iTudbrXEbzr4"
   },
   "outputs": [],
   "source": [
    "model = SVC()\n",
    "model.fit(x_train_scaled, y_train)\n",
    "preds = model.predict(x_test_scaled)\n",
    "acc = accuracy_score(preds, y_test)\n",
    "print(acc)"
   ]
  }
 ],
 "metadata": {
  "colab": {
   "collapsed_sections": [],
   "name": "GradProject_NB3.ipynb",
   "provenance": []
  },
  "kernelspec": {
   "display_name": "Python 3",
   "language": "python",
   "name": "python3"
  },
  "language_info": {
   "codemirror_mode": {
    "name": "ipython",
    "version": 3
   },
   "file_extension": ".py",
   "mimetype": "text/x-python",
   "name": "python",
   "nbconvert_exporter": "python",
   "pygments_lexer": "ipython3",
   "version": "3.7.2"
  }
 },
 "nbformat": 4,
 "nbformat_minor": 1
}
